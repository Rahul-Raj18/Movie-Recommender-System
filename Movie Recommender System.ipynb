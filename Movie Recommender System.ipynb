{
 "cells": [
  {
   "cell_type": "code",
   "execution_count": 1,
   "id": "662817d5-0e7c-4414-9887-1fb9e38b808e",
   "metadata": {},
   "outputs": [],
   "source": [
    "import pandas as pd\n",
    "import numpy as np\n",
    "\n",
    "import warnings\n",
    "warnings.filterwarnings('ignore')"
   ]
  },
  {
   "cell_type": "code",
   "execution_count": 2,
   "id": "8b62431b-f80b-41bd-857d-0811f508ca1c",
   "metadata": {},
   "outputs": [],
   "source": [
    "df=pd.read_csv(\"movies_metadata.csv\")"
   ]
  },
  {
   "cell_type": "code",
   "execution_count": 3,
   "id": "ecd28e59-6cc9-4fcd-968b-7f4d51fb88ff",
   "metadata": {},
   "outputs": [
    {
     "data": {
      "text/html": [
       "<div>\n",
       "<style scoped>\n",
       "    .dataframe tbody tr th:only-of-type {\n",
       "        vertical-align: middle;\n",
       "    }\n",
       "\n",
       "    .dataframe tbody tr th {\n",
       "        vertical-align: top;\n",
       "    }\n",
       "\n",
       "    .dataframe thead th {\n",
       "        text-align: right;\n",
       "    }\n",
       "</style>\n",
       "<table border=\"1\" class=\"dataframe\">\n",
       "  <thead>\n",
       "    <tr style=\"text-align: right;\">\n",
       "      <th></th>\n",
       "      <th>adult</th>\n",
       "      <th>belongs_to_collection</th>\n",
       "      <th>budget</th>\n",
       "      <th>genres</th>\n",
       "      <th>homepage</th>\n",
       "      <th>id</th>\n",
       "      <th>imdb_id</th>\n",
       "      <th>original_language</th>\n",
       "      <th>original_title</th>\n",
       "      <th>overview</th>\n",
       "      <th>...</th>\n",
       "      <th>release_date</th>\n",
       "      <th>revenue</th>\n",
       "      <th>runtime</th>\n",
       "      <th>spoken_languages</th>\n",
       "      <th>status</th>\n",
       "      <th>tagline</th>\n",
       "      <th>title</th>\n",
       "      <th>video</th>\n",
       "      <th>vote_average</th>\n",
       "      <th>vote_count</th>\n",
       "    </tr>\n",
       "  </thead>\n",
       "  <tbody>\n",
       "    <tr>\n",
       "      <th>0</th>\n",
       "      <td>False</td>\n",
       "      <td>{'id': 10194, 'name': 'Toy Story Collection', ...</td>\n",
       "      <td>30000000</td>\n",
       "      <td>[{'id': 16, 'name': 'Animation'}, {'id': 35, '...</td>\n",
       "      <td>http://toystory.disney.com/toy-story</td>\n",
       "      <td>862</td>\n",
       "      <td>tt0114709</td>\n",
       "      <td>en</td>\n",
       "      <td>Toy Story</td>\n",
       "      <td>Led by Woody, Andy's toys live happily in his ...</td>\n",
       "      <td>...</td>\n",
       "      <td>1995-10-30</td>\n",
       "      <td>373554033.0</td>\n",
       "      <td>81.0</td>\n",
       "      <td>[{'iso_639_1': 'en', 'name': 'English'}]</td>\n",
       "      <td>Released</td>\n",
       "      <td>NaN</td>\n",
       "      <td>Toy Story</td>\n",
       "      <td>False</td>\n",
       "      <td>7.7</td>\n",
       "      <td>5415.0</td>\n",
       "    </tr>\n",
       "    <tr>\n",
       "      <th>1</th>\n",
       "      <td>False</td>\n",
       "      <td>NaN</td>\n",
       "      <td>65000000</td>\n",
       "      <td>[{'id': 12, 'name': 'Adventure'}, {'id': 14, '...</td>\n",
       "      <td>NaN</td>\n",
       "      <td>8844</td>\n",
       "      <td>tt0113497</td>\n",
       "      <td>en</td>\n",
       "      <td>Jumanji</td>\n",
       "      <td>When siblings Judy and Peter discover an encha...</td>\n",
       "      <td>...</td>\n",
       "      <td>1995-12-15</td>\n",
       "      <td>262797249.0</td>\n",
       "      <td>104.0</td>\n",
       "      <td>[{'iso_639_1': 'en', 'name': 'English'}, {'iso...</td>\n",
       "      <td>Released</td>\n",
       "      <td>Roll the dice and unleash the excitement!</td>\n",
       "      <td>Jumanji</td>\n",
       "      <td>False</td>\n",
       "      <td>6.9</td>\n",
       "      <td>2413.0</td>\n",
       "    </tr>\n",
       "    <tr>\n",
       "      <th>2</th>\n",
       "      <td>False</td>\n",
       "      <td>{'id': 119050, 'name': 'Grumpy Old Men Collect...</td>\n",
       "      <td>0</td>\n",
       "      <td>[{'id': 10749, 'name': 'Romance'}, {'id': 35, ...</td>\n",
       "      <td>NaN</td>\n",
       "      <td>15602</td>\n",
       "      <td>tt0113228</td>\n",
       "      <td>en</td>\n",
       "      <td>Grumpier Old Men</td>\n",
       "      <td>A family wedding reignites the ancient feud be...</td>\n",
       "      <td>...</td>\n",
       "      <td>1995-12-22</td>\n",
       "      <td>0.0</td>\n",
       "      <td>101.0</td>\n",
       "      <td>[{'iso_639_1': 'en', 'name': 'English'}]</td>\n",
       "      <td>Released</td>\n",
       "      <td>Still Yelling. Still Fighting. Still Ready for...</td>\n",
       "      <td>Grumpier Old Men</td>\n",
       "      <td>False</td>\n",
       "      <td>6.5</td>\n",
       "      <td>92.0</td>\n",
       "    </tr>\n",
       "    <tr>\n",
       "      <th>3</th>\n",
       "      <td>False</td>\n",
       "      <td>NaN</td>\n",
       "      <td>16000000</td>\n",
       "      <td>[{'id': 35, 'name': 'Comedy'}, {'id': 18, 'nam...</td>\n",
       "      <td>NaN</td>\n",
       "      <td>31357</td>\n",
       "      <td>tt0114885</td>\n",
       "      <td>en</td>\n",
       "      <td>Waiting to Exhale</td>\n",
       "      <td>Cheated on, mistreated and stepped on, the wom...</td>\n",
       "      <td>...</td>\n",
       "      <td>1995-12-22</td>\n",
       "      <td>81452156.0</td>\n",
       "      <td>127.0</td>\n",
       "      <td>[{'iso_639_1': 'en', 'name': 'English'}]</td>\n",
       "      <td>Released</td>\n",
       "      <td>Friends are the people who let you be yourself...</td>\n",
       "      <td>Waiting to Exhale</td>\n",
       "      <td>False</td>\n",
       "      <td>6.1</td>\n",
       "      <td>34.0</td>\n",
       "    </tr>\n",
       "    <tr>\n",
       "      <th>4</th>\n",
       "      <td>False</td>\n",
       "      <td>{'id': 96871, 'name': 'Father of the Bride Col...</td>\n",
       "      <td>0</td>\n",
       "      <td>[{'id': 35, 'name': 'Comedy'}]</td>\n",
       "      <td>NaN</td>\n",
       "      <td>11862</td>\n",
       "      <td>tt0113041</td>\n",
       "      <td>en</td>\n",
       "      <td>Father of the Bride Part II</td>\n",
       "      <td>Just when George Banks has recovered from his ...</td>\n",
       "      <td>...</td>\n",
       "      <td>1995-02-10</td>\n",
       "      <td>76578911.0</td>\n",
       "      <td>106.0</td>\n",
       "      <td>[{'iso_639_1': 'en', 'name': 'English'}]</td>\n",
       "      <td>Released</td>\n",
       "      <td>Just When His World Is Back To Normal... He's ...</td>\n",
       "      <td>Father of the Bride Part II</td>\n",
       "      <td>False</td>\n",
       "      <td>5.7</td>\n",
       "      <td>173.0</td>\n",
       "    </tr>\n",
       "  </tbody>\n",
       "</table>\n",
       "<p>5 rows × 24 columns</p>\n",
       "</div>"
      ],
      "text/plain": [
       "   adult                              belongs_to_collection    budget  \\\n",
       "0  False  {'id': 10194, 'name': 'Toy Story Collection', ...  30000000   \n",
       "1  False                                                NaN  65000000   \n",
       "2  False  {'id': 119050, 'name': 'Grumpy Old Men Collect...         0   \n",
       "3  False                                                NaN  16000000   \n",
       "4  False  {'id': 96871, 'name': 'Father of the Bride Col...         0   \n",
       "\n",
       "                                              genres  \\\n",
       "0  [{'id': 16, 'name': 'Animation'}, {'id': 35, '...   \n",
       "1  [{'id': 12, 'name': 'Adventure'}, {'id': 14, '...   \n",
       "2  [{'id': 10749, 'name': 'Romance'}, {'id': 35, ...   \n",
       "3  [{'id': 35, 'name': 'Comedy'}, {'id': 18, 'nam...   \n",
       "4                     [{'id': 35, 'name': 'Comedy'}]   \n",
       "\n",
       "                               homepage     id    imdb_id original_language  \\\n",
       "0  http://toystory.disney.com/toy-story    862  tt0114709                en   \n",
       "1                                   NaN   8844  tt0113497                en   \n",
       "2                                   NaN  15602  tt0113228                en   \n",
       "3                                   NaN  31357  tt0114885                en   \n",
       "4                                   NaN  11862  tt0113041                en   \n",
       "\n",
       "                original_title  \\\n",
       "0                    Toy Story   \n",
       "1                      Jumanji   \n",
       "2             Grumpier Old Men   \n",
       "3            Waiting to Exhale   \n",
       "4  Father of the Bride Part II   \n",
       "\n",
       "                                            overview  ... release_date  \\\n",
       "0  Led by Woody, Andy's toys live happily in his ...  ...   1995-10-30   \n",
       "1  When siblings Judy and Peter discover an encha...  ...   1995-12-15   \n",
       "2  A family wedding reignites the ancient feud be...  ...   1995-12-22   \n",
       "3  Cheated on, mistreated and stepped on, the wom...  ...   1995-12-22   \n",
       "4  Just when George Banks has recovered from his ...  ...   1995-02-10   \n",
       "\n",
       "       revenue runtime                                   spoken_languages  \\\n",
       "0  373554033.0    81.0           [{'iso_639_1': 'en', 'name': 'English'}]   \n",
       "1  262797249.0   104.0  [{'iso_639_1': 'en', 'name': 'English'}, {'iso...   \n",
       "2          0.0   101.0           [{'iso_639_1': 'en', 'name': 'English'}]   \n",
       "3   81452156.0   127.0           [{'iso_639_1': 'en', 'name': 'English'}]   \n",
       "4   76578911.0   106.0           [{'iso_639_1': 'en', 'name': 'English'}]   \n",
       "\n",
       "     status                                            tagline  \\\n",
       "0  Released                                                NaN   \n",
       "1  Released          Roll the dice and unleash the excitement!   \n",
       "2  Released  Still Yelling. Still Fighting. Still Ready for...   \n",
       "3  Released  Friends are the people who let you be yourself...   \n",
       "4  Released  Just When His World Is Back To Normal... He's ...   \n",
       "\n",
       "                         title  video vote_average vote_count  \n",
       "0                    Toy Story  False          7.7     5415.0  \n",
       "1                      Jumanji  False          6.9     2413.0  \n",
       "2             Grumpier Old Men  False          6.5       92.0  \n",
       "3            Waiting to Exhale  False          6.1       34.0  \n",
       "4  Father of the Bride Part II  False          5.7      173.0  \n",
       "\n",
       "[5 rows x 24 columns]"
      ]
     },
     "execution_count": 3,
     "metadata": {},
     "output_type": "execute_result"
    }
   ],
   "source": [
    "df.head()"
   ]
  },
  {
   "cell_type": "code",
   "execution_count": 4,
   "id": "07c45ecf-afdd-4f3f-a240-34134486e965",
   "metadata": {},
   "outputs": [
    {
     "data": {
      "text/plain": [
       "(45466, 24)"
      ]
     },
     "execution_count": 4,
     "metadata": {},
     "output_type": "execute_result"
    }
   ],
   "source": [
    "df.shape"
   ]
  },
  {
   "cell_type": "code",
   "execution_count": 5,
   "id": "7a362d4a-2c6e-4dfd-9097-a69e5a727f46",
   "metadata": {},
   "outputs": [
    {
     "name": "stdout",
     "output_type": "stream",
     "text": [
      "<class 'pandas.core.frame.DataFrame'>\n",
      "RangeIndex: 45466 entries, 0 to 45465\n",
      "Data columns (total 24 columns):\n",
      " #   Column                 Non-Null Count  Dtype  \n",
      "---  ------                 --------------  -----  \n",
      " 0   adult                  45466 non-null  object \n",
      " 1   belongs_to_collection  4494 non-null   object \n",
      " 2   budget                 45466 non-null  object \n",
      " 3   genres                 45466 non-null  object \n",
      " 4   homepage               7782 non-null   object \n",
      " 5   id                     45466 non-null  object \n",
      " 6   imdb_id                45449 non-null  object \n",
      " 7   original_language      45455 non-null  object \n",
      " 8   original_title         45466 non-null  object \n",
      " 9   overview               44512 non-null  object \n",
      " 10  popularity             45461 non-null  object \n",
      " 11  poster_path            45080 non-null  object \n",
      " 12  production_companies   45463 non-null  object \n",
      " 13  production_countries   45463 non-null  object \n",
      " 14  release_date           45379 non-null  object \n",
      " 15  revenue                45460 non-null  float64\n",
      " 16  runtime                45203 non-null  float64\n",
      " 17  spoken_languages       45460 non-null  object \n",
      " 18  status                 45379 non-null  object \n",
      " 19  tagline                20412 non-null  object \n",
      " 20  title                  45460 non-null  object \n",
      " 21  video                  45460 non-null  object \n",
      " 22  vote_average           45460 non-null  float64\n",
      " 23  vote_count             45460 non-null  float64\n",
      "dtypes: float64(4), object(20)\n",
      "memory usage: 8.3+ MB\n"
     ]
    }
   ],
   "source": [
    "df.info()"
   ]
  },
  {
   "cell_type": "code",
   "execution_count": 6,
   "id": "c2bd2a3b-0366-4bac-a60b-02a08671c3a6",
   "metadata": {},
   "outputs": [
    {
     "data": {
      "text/plain": [
       "adult                        0\n",
       "belongs_to_collection    40972\n",
       "budget                       0\n",
       "genres                       0\n",
       "homepage                 37684\n",
       "id                           0\n",
       "imdb_id                     17\n",
       "original_language           11\n",
       "original_title               0\n",
       "overview                   954\n",
       "popularity                   5\n",
       "poster_path                386\n",
       "production_companies         3\n",
       "production_countries         3\n",
       "release_date                87\n",
       "revenue                      6\n",
       "runtime                    263\n",
       "spoken_languages             6\n",
       "status                      87\n",
       "tagline                  25054\n",
       "title                        6\n",
       "video                        6\n",
       "vote_average                 6\n",
       "vote_count                   6\n",
       "dtype: int64"
      ]
     },
     "execution_count": 6,
     "metadata": {},
     "output_type": "execute_result"
    }
   ],
   "source": [
    "df.isnull().sum()"
   ]
  },
  {
   "cell_type": "code",
   "execution_count": 7,
   "id": "78eea799-f1e5-41e8-a2e2-0ba0a8da7941",
   "metadata": {},
   "outputs": [],
   "source": [
    "# Drop columns with too many missing values\n",
    "df = df.drop(columns=['belongs_to_collection', 'homepage'])\n",
    "\n",
    "# Fill missing values\n",
    "# For simplicity, we'll fill 'overview' with an empty string\n",
    "df['overview'] = df['overview'].fillna('')"
   ]
  },
  {
   "cell_type": "code",
   "execution_count": 8,
   "id": "9fa8a315-12be-4b21-9efe-091e763ea260",
   "metadata": {},
   "outputs": [],
   "source": [
    "# Converting columns 'budget', 'popularity', and 'revenue' to numeric\n",
    "df['budget'] = pd.to_numeric(df['budget'], errors='coerce')\n",
    "df['popularity'] = pd.to_numeric(df['popularity'], errors='coerce')\n",
    "df['revenue'] = pd.to_numeric(df['revenue'], errors='coerce')\n",
    "\n",
    "# Convert 'release_date' to datetime\n",
    "df['release_date'] = pd.to_datetime(df['release_date'], errors='coerce')"
   ]
  },
  {
   "cell_type": "code",
   "execution_count": 9,
   "id": "68bd3a26-e7c3-4687-8d3d-3e447342806f",
   "metadata": {},
   "outputs": [
    {
     "name": "stdout",
     "output_type": "stream",
     "text": [
      "0         [Animation, Comedy, Family]\n",
      "1        [Adventure, Fantasy, Family]\n",
      "2                   [Romance, Comedy]\n",
      "3            [Comedy, Drama, Romance]\n",
      "4                            [Comedy]\n",
      "                     ...             \n",
      "45461                 [Drama, Family]\n",
      "45462                         [Drama]\n",
      "45463       [Action, Drama, Thriller]\n",
      "45464                              []\n",
      "45465                              []\n",
      "Name: genre_names, Length: 45466, dtype: object\n"
     ]
    }
   ],
   "source": [
    "import ast\n",
    "\n",
    "df['genres'] = df['genres'].apply(lambda x: ast.literal_eval(x) if isinstance(x, str) else x)\n",
    "\n",
    "# Extract all genres\n",
    "df['genre_names'] = df['genres'].apply(lambda x: [genre['name'] for genre in x])\n",
    "\n",
    "print(df['genre_names'])\n"
   ]
  },
  {
   "cell_type": "code",
   "execution_count": 10,
   "id": "5b8a4868-8d03-4eeb-a6b6-effe96bda52b",
   "metadata": {},
   "outputs": [
    {
     "name": "stdout",
     "output_type": "stream",
     "text": [
      "Drama                                    20265\n",
      "Comedy                                   13182\n",
      "Thriller                                  7624\n",
      "Romance                                   6735\n",
      "Action                                    6596\n",
      "Horror                                    4673\n",
      "Crime                                     4307\n",
      "Documentary                               3932\n",
      "Adventure                                 3496\n",
      "Science Fiction                           3049\n",
      "Family                                    2770\n",
      "Mystery                                   2467\n",
      "Fantasy                                   2313\n",
      "Animation                                 1935\n",
      "Foreign                                   1622\n",
      "Music                                     1598\n",
      "History                                   1398\n",
      "War                                       1323\n",
      "Western                                   1042\n",
      "TV Movie                                   767\n",
      "Carousel Productions                         1\n",
      "Vision View Entertainment                    1\n",
      "Telescene Film Group Productions             1\n",
      "Aniplex                                      1\n",
      "GoHands                                      1\n",
      "BROSTA TV                                    1\n",
      "Mardock Scramble Production Committee        1\n",
      "Sentai Filmworks                             1\n",
      "Odyssey Media                                1\n",
      "Pulser Productions                           1\n",
      "Rogue State                                  1\n",
      "The Cartel                                   1\n",
      "Name: count, dtype: int64\n"
     ]
    }
   ],
   "source": [
    "# Flatten the list of genre names\n",
    "all_genres = [genre for genres_list in df['genre_names'] for genre in genres_list]\n",
    "\n",
    "# Count the number of occurrences of each genre\n",
    "genre_counts = pd.Series(all_genres).value_counts()\n",
    "\n",
    "print(genre_counts)"
   ]
  },
  {
   "cell_type": "code",
   "execution_count": 11,
   "id": "717913f0-8550-42b3-896e-173174e01256",
   "metadata": {},
   "outputs": [
    {
     "name": "stdout",
     "output_type": "stream",
     "text": [
      "Drama              20265\n",
      "Comedy             13182\n",
      "Thriller            7624\n",
      "Romance             6735\n",
      "Action              6596\n",
      "Horror              4673\n",
      "Crime               4307\n",
      "Documentary         3932\n",
      "Adventure           3496\n",
      "Science Fiction     3049\n",
      "Family              2770\n",
      "Mystery             2467\n",
      "Fantasy             2313\n",
      "Animation           1935\n",
      "Foreign             1622\n",
      "Music               1598\n",
      "History             1398\n",
      "War                 1323\n",
      "Western             1042\n",
      "TV Movie             767\n",
      "Name: count, dtype: int64\n"
     ]
    }
   ],
   "source": [
    "# Filter out irrelevant data that might have been wrongly included\n",
    "valid_genres = ['Action', 'Adventure', 'Animation', 'Comedy', 'Crime', 'Documentary', 'Drama', 'Family', 'Fantasy','Foreign',\n",
    "                'History', 'Horror', 'Music', 'Mystery', 'Romance', 'Science Fiction', 'TV Movie', 'Thriller', 'War', 'Western']\n",
    "\n",
    "# Keep only rows with valid genres\n",
    "genre_counts = genre_counts[genre_counts.index.isin(valid_genres)]\n",
    "\n",
    "print(genre_counts)"
   ]
  },
  {
   "cell_type": "code",
   "execution_count": 89,
   "id": "44b08b49-d95b-49a1-b366-e15eb680521e",
   "metadata": {},
   "outputs": [
    {
     "data": {
      "image/png": "[encoded data removed]",
      "text/plain": [
       "<Figure size 1200x800 with 1 Axes>"
      ]
     },
     "metadata": {},
     "output_type": "display_data"
    }
   ],
   "source": [
    "# Create a DataFrame for the count plot\n",
    "genre_df = pd.DataFrame({'Genre': all_genres})\n",
    "\n",
    "# Plotting the count plot of movie genres\n",
    "plt.figure(figsize=(12, 8))\n",
    "sns.countplot(data=genre_df, x='Genre', order=genre_df['Genre'].value_counts().index)\n",
    "plt.title('Distribution of Movie Genres')\n",
    "plt.xlabel('Genre')\n",
    "plt.ylabel('Number of Movies')\n",
    "plt.xticks(rotation=90)\n",
    "plt.show()\n"
   ]
  },
  {
   "cell_type": "code",
   "execution_count": 13,
   "id": "3fdad36a-2f97-4cca-8dec-e01ff7a6f8db",
   "metadata": {},
   "outputs": [
    {
     "data": {
      "image/png": "[encoded data removed]",
      "text/plain": [
       "<Figure size 1000x600 with 1 Axes>"
      ]
     },
     "metadata": {},
     "output_type": "display_data"
    }
   ],
   "source": [
    "# Distribution of ratings\n",
    "plt.figure(figsize=(10, 6))\n",
    "sns.histplot(df['vote_average'], bins=20, kde=True)\n",
    "plt.title('Distribution of Movie Ratings')\n",
    "plt.xlabel('Average Rating')\n",
    "plt.ylabel('Frequency')\n",
    "plt.show()\n"
   ]
  },
  {
   "cell_type": "code",
   "execution_count": 95,
   "id": "9593f314-80ac-4a4f-aed1-64d97aec10ff",
   "metadata": {},
   "outputs": [
    {
     "data": {
      "image/png": "[encoded data removed]",
      "text/plain": [
       "<Figure size 1200x600 with 1 Axes>"
      ]
     },
     "metadata": {},
     "output_type": "display_data"
    }
   ],
   "source": [
    "popularity_by_year = df.groupby('year')['popularity'].mean().reset_index()\n",
    "popularity_by_year['year'] = pd.to_datetime(popularity_by_year['year'], format='%Y')\n",
    "\n",
    "#Lineplot\n",
    "plt.figure(figsize=(12, 6))\n",
    "sns.lineplot(x='year', y='popularity', data=popularity_by_year)\n",
    "plt.title('Average Popularity of Movies Over Time')\n",
    "plt.xlabel('Year')\n",
    "plt.ylabel('Average Popularity')\n",
    "plt.xticks(rotation=90)\n",
    "plt.show()\n"
   ]
  },
  {
   "cell_type": "markdown",
   "id": "9aaecb70-0609-4f20-9f71-f4f7982ab57a",
   "metadata": {},
   "source": [
    "## Simple Recommender\n",
    "\n",
    "The Simple Recommender provides generalized movie suggestions based on popularity and, occasionally, genre. It assumes that highly rated and popular films are more likely to appeal to a broad audience. This approach does not personalize recommendations but rather provides generalized suggestions to all users. The implementation involves sorting movies by their popularity and ratings, and optionally filtering by genre to show the top-rated films. "
   ]
  },
  {
   "cell_type": "markdown",
   "id": "43a80db1-566d-4014-bb5e-838dbf89cec6",
   "metadata": {},
   "source": [
    "I use the TMDB Ratings to come up with our Top Movies Chart. I will use IMDB's weighted rating formula to construct my chart. Mathematically, it is represented as follows:\n",
    "\n",
    "   Weighted Rating (WR) =  (v/(v+m)).R + (m/(v+m)).C     where,\n",
    "\n",
    "   **v** is the number of votes for the movie ,\n",
    "   **m** is the minimum votes required to be listed in the chart , \n",
    "    **R** is the average rating of the movie , \n",
    "    **C** is the mean vote across the whole report\n",
    "\n",
    "The next step is to determine an appropriate value for m, the minimum votes required to be listed in the chart. We will use 95th percentile as our cutoff. In other words, for a movie to feature in the charts, it must have more votes than at least 95% of the movies in the list."
   ]
  },
  {
   "cell_type": "code",
   "execution_count": 14,
   "id": "383a1469-8ca2-4fee-93b1-a2b9cf431842",
   "metadata": {},
   "outputs": [
    {
     "data": {
      "text/plain": [
       "5.244896612406511"
      ]
     },
     "execution_count": 14,
     "metadata": {},
     "output_type": "execute_result"
    }
   ],
   "source": [
    "vote_counts = df[df['vote_count'].notnull()]['vote_count'].astype('int')\n",
    "vote_averages = df[df['vote_average'].notnull()]['vote_average'].astype('int')\n",
    "C = vote_averages.mean()\n",
    "C"
   ]
  },
  {
   "cell_type": "code",
   "execution_count": 15,
   "id": "aa07c588-eedd-4172-a452-0b2fdb5a9d8a",
   "metadata": {},
   "outputs": [
    {
     "data": {
      "text/plain": [
       "434.0"
      ]
     },
     "execution_count": 15,
     "metadata": {},
     "output_type": "execute_result"
    }
   ],
   "source": [
    "m = vote_counts.quantile(0.95)\n",
    "m"
   ]
  },
  {
   "cell_type": "code",
   "execution_count": 16,
   "id": "dba0f597-cb27-4519-b0c8-149672c845b6",
   "metadata": {},
   "outputs": [],
   "source": [
    "df['year'] = pd.to_datetime(df['release_date'], errors='coerce').apply(lambda x: str(x).split('-')[0] if x != np.nan else np.nan)"
   ]
  },
  {
   "cell_type": "code",
   "execution_count": 17,
   "id": "9414aa4f-6433-464b-b5ee-d91a2b6f25a8",
   "metadata": {},
   "outputs": [
    {
     "data": {
      "text/plain": [
       "(2274, 6)"
      ]
     },
     "execution_count": 17,
     "metadata": {},
     "output_type": "execute_result"
    }
   ],
   "source": [
    "qualified = df[(df['vote_count'] >= m) & (df['vote_count'].notnull()) & (df['vote_average'].notnull())][['title', 'year', 'vote_count', 'vote_average', 'popularity', 'genres']]\n",
    "qualified['vote_count'] = qualified['vote_count'].astype('int')\n",
    "qualified['vote_average'] = qualified['vote_average'].astype('int')\n",
    "qualified.shape"
   ]
  },
  {
   "cell_type": "markdown",
   "id": "368cb6e6-2e36-4983-861d-9b538c30767d",
   "metadata": {},
   "source": [
    "Therefore, to  qualify to be considered for the chart, we can see that a movie has to have at least 434 votes on TMDB. \n",
    "We also see that the average rating for a movie on TMDB is 5.244 on a scale of 10. \n",
    "2274 Movies qualify to be on our chart."
   ]
  },
  {
   "cell_type": "code",
   "execution_count": 18,
   "id": "7d8f5387-8d06-4004-bc99-1dc109a5a858",
   "metadata": {},
   "outputs": [],
   "source": [
    "def rating_weightage(x):\n",
    "    v = x['vote_count']\n",
    "    R = x['vote_average']\n",
    "    return (v/(v+m) * R) + (m/(m+v) * C)"
   ]
  },
  {
   "cell_type": "code",
   "execution_count": 19,
   "id": "e9a859ac-b6b1-4570-bcad-a9a38768f28d",
   "metadata": {},
   "outputs": [],
   "source": [
    "qualified['wr'] = qualified.apply(rating_weightage, axis=1)"
   ]
  },
  {
   "cell_type": "code",
   "execution_count": 20,
   "id": "4c4d9831-792e-4f7c-a16a-23a51c973163",
   "metadata": {},
   "outputs": [],
   "source": [
    "qualified = qualified.sort_values('wr', ascending=False).head(250)"
   ]
  },
  {
   "cell_type": "markdown",
   "id": "bef82753-7ce0-43a8-bd58-be034d009feb",
   "metadata": {},
   "source": [
    "### Top Movies"
   ]
  },
  {
   "cell_type": "code",
   "execution_count": 21,
   "id": "a949fcb0-ede2-4314-9114-6a0162f562b9",
   "metadata": {},
   "outputs": [
    {
     "data": {
      "text/html": [
       "<div>\n",
       "<style scoped>\n",
       "    .dataframe tbody tr th:only-of-type {\n",
       "        vertical-align: middle;\n",
       "    }\n",
       "\n",
       "    .dataframe tbody tr th {\n",
       "        vertical-align: top;\n",
       "    }\n",
       "\n",
       "    .dataframe thead th {\n",
       "        text-align: right;\n",
       "    }\n",
       "</style>\n",
       "<table border=\"1\" class=\"dataframe\">\n",
       "  <thead>\n",
       "    <tr style=\"text-align: right;\">\n",
       "      <th></th>\n",
       "      <th>title</th>\n",
       "      <th>year</th>\n",
       "      <th>vote_count</th>\n",
       "      <th>vote_average</th>\n",
       "      <th>popularity</th>\n",
       "      <th>genres</th>\n",
       "      <th>wr</th>\n",
       "    </tr>\n",
       "  </thead>\n",
       "  <tbody>\n",
       "    <tr>\n",
       "      <th>15480</th>\n",
       "      <td>Inception</td>\n",
       "      <td>2010</td>\n",
       "      <td>14075</td>\n",
       "      <td>8</td>\n",
       "      <td>29.108149</td>\n",
       "      <td>[{'id': 28, 'name': 'Action'}, {'id': 53, 'nam...</td>\n",
       "      <td>7.917588</td>\n",
       "    </tr>\n",
       "    <tr>\n",
       "      <th>12481</th>\n",
       "      <td>The Dark Knight</td>\n",
       "      <td>2008</td>\n",
       "      <td>12269</td>\n",
       "      <td>8</td>\n",
       "      <td>123.167259</td>\n",
       "      <td>[{'id': 18, 'name': 'Drama'}, {'id': 28, 'name...</td>\n",
       "      <td>7.905871</td>\n",
       "    </tr>\n",
       "    <tr>\n",
       "      <th>22879</th>\n",
       "      <td>Interstellar</td>\n",
       "      <td>2014</td>\n",
       "      <td>11187</td>\n",
       "      <td>8</td>\n",
       "      <td>32.213481</td>\n",
       "      <td>[{'id': 12, 'name': 'Adventure'}, {'id': 18, '...</td>\n",
       "      <td>7.897107</td>\n",
       "    </tr>\n",
       "    <tr>\n",
       "      <th>2843</th>\n",
       "      <td>Fight Club</td>\n",
       "      <td>1999</td>\n",
       "      <td>9678</td>\n",
       "      <td>8</td>\n",
       "      <td>63.869599</td>\n",
       "      <td>[{'id': 18, 'name': 'Drama'}]</td>\n",
       "      <td>7.881753</td>\n",
       "    </tr>\n",
       "    <tr>\n",
       "      <th>4863</th>\n",
       "      <td>The Lord of the Rings: The Fellowship of the Ring</td>\n",
       "      <td>2001</td>\n",
       "      <td>8892</td>\n",
       "      <td>8</td>\n",
       "      <td>32.070725</td>\n",
       "      <td>[{'id': 12, 'name': 'Adventure'}, {'id': 14, '...</td>\n",
       "      <td>7.871787</td>\n",
       "    </tr>\n",
       "    <tr>\n",
       "      <th>292</th>\n",
       "      <td>Pulp Fiction</td>\n",
       "      <td>1994</td>\n",
       "      <td>8670</td>\n",
       "      <td>8</td>\n",
       "      <td>140.950236</td>\n",
       "      <td>[{'id': 53, 'name': 'Thriller'}, {'id': 80, 'n...</td>\n",
       "      <td>7.868660</td>\n",
       "    </tr>\n",
       "    <tr>\n",
       "      <th>314</th>\n",
       "      <td>The Shawshank Redemption</td>\n",
       "      <td>1994</td>\n",
       "      <td>8358</td>\n",
       "      <td>8</td>\n",
       "      <td>51.645403</td>\n",
       "      <td>[{'id': 18, 'name': 'Drama'}, {'id': 80, 'name...</td>\n",
       "      <td>7.864000</td>\n",
       "    </tr>\n",
       "    <tr>\n",
       "      <th>7000</th>\n",
       "      <td>The Lord of the Rings: The Return of the King</td>\n",
       "      <td>2003</td>\n",
       "      <td>8226</td>\n",
       "      <td>8</td>\n",
       "      <td>29.324358</td>\n",
       "      <td>[{'id': 12, 'name': 'Adventure'}, {'id': 14, '...</td>\n",
       "      <td>7.861927</td>\n",
       "    </tr>\n",
       "    <tr>\n",
       "      <th>351</th>\n",
       "      <td>Forrest Gump</td>\n",
       "      <td>1994</td>\n",
       "      <td>8147</td>\n",
       "      <td>8</td>\n",
       "      <td>48.307194</td>\n",
       "      <td>[{'id': 35, 'name': 'Comedy'}, {'id': 18, 'nam...</td>\n",
       "      <td>7.860656</td>\n",
       "    </tr>\n",
       "    <tr>\n",
       "      <th>5814</th>\n",
       "      <td>The Lord of the Rings: The Two Towers</td>\n",
       "      <td>2002</td>\n",
       "      <td>7641</td>\n",
       "      <td>8</td>\n",
       "      <td>29.423537</td>\n",
       "      <td>[{'id': 12, 'name': 'Adventure'}, {'id': 14, '...</td>\n",
       "      <td>7.851924</td>\n",
       "    </tr>\n",
       "    <tr>\n",
       "      <th>256</th>\n",
       "      <td>Star Wars</td>\n",
       "      <td>1977</td>\n",
       "      <td>6778</td>\n",
       "      <td>8</td>\n",
       "      <td>42.149697</td>\n",
       "      <td>[{'id': 12, 'name': 'Adventure'}, {'id': 28, '...</td>\n",
       "      <td>7.834205</td>\n",
       "    </tr>\n",
       "    <tr>\n",
       "      <th>1225</th>\n",
       "      <td>Back to the Future</td>\n",
       "      <td>1985</td>\n",
       "      <td>6239</td>\n",
       "      <td>8</td>\n",
       "      <td>25.778509</td>\n",
       "      <td>[{'id': 12, 'name': 'Adventure'}, {'id': 35, '...</td>\n",
       "      <td>7.820813</td>\n",
       "    </tr>\n",
       "    <tr>\n",
       "      <th>834</th>\n",
       "      <td>The Godfather</td>\n",
       "      <td>1972</td>\n",
       "      <td>6024</td>\n",
       "      <td>8</td>\n",
       "      <td>41.109264</td>\n",
       "      <td>[{'id': 18, 'name': 'Drama'}, {'id': 80, 'name...</td>\n",
       "      <td>7.814847</td>\n",
       "    </tr>\n",
       "    <tr>\n",
       "      <th>1154</th>\n",
       "      <td>The Empire Strikes Back</td>\n",
       "      <td>1980</td>\n",
       "      <td>5998</td>\n",
       "      <td>8</td>\n",
       "      <td>19.470959</td>\n",
       "      <td>[{'id': 12, 'name': 'Adventure'}, {'id': 28, '...</td>\n",
       "      <td>7.814099</td>\n",
       "    </tr>\n",
       "    <tr>\n",
       "      <th>46</th>\n",
       "      <td>Se7en</td>\n",
       "      <td>1995</td>\n",
       "      <td>5915</td>\n",
       "      <td>8</td>\n",
       "      <td>18.457430</td>\n",
       "      <td>[{'id': 80, 'name': 'Crime'}, {'id': 9648, 'na...</td>\n",
       "      <td>7.811669</td>\n",
       "    </tr>\n",
       "  </tbody>\n",
       "</table>\n",
       "</div>"
      ],
      "text/plain": [
       "                                                   title  year  vote_count  \\\n",
       "15480                                          Inception  2010       14075   \n",
       "12481                                    The Dark Knight  2008       12269   \n",
       "22879                                       Interstellar  2014       11187   \n",
       "2843                                          Fight Club  1999        9678   \n",
       "4863   The Lord of the Rings: The Fellowship of the Ring  2001        8892   \n",
       "292                                         Pulp Fiction  1994        8670   \n",
       "314                             The Shawshank Redemption  1994        8358   \n",
       "7000       The Lord of the Rings: The Return of the King  2003        8226   \n",
       "351                                         Forrest Gump  1994        8147   \n",
       "5814               The Lord of the Rings: The Two Towers  2002        7641   \n",
       "256                                            Star Wars  1977        6778   \n",
       "1225                                  Back to the Future  1985        6239   \n",
       "834                                        The Godfather  1972        6024   \n",
       "1154                             The Empire Strikes Back  1980        5998   \n",
       "46                                                 Se7en  1995        5915   \n",
       "\n",
       "       vote_average  popularity  \\\n",
       "15480             8   29.108149   \n",
       "12481             8  123.167259   \n",
       "22879             8   32.213481   \n",
       "2843              8   63.869599   \n",
       "4863              8   32.070725   \n",
       "292               8  140.950236   \n",
       "314               8   51.645403   \n",
       "7000              8   29.324358   \n",
       "351               8   48.307194   \n",
       "5814              8   29.423537   \n",
       "256               8   42.149697   \n",
       "1225              8   25.778509   \n",
       "834               8   41.109264   \n",
       "1154              8   19.470959   \n",
       "46                8   18.457430   \n",
       "\n",
       "                                                  genres        wr  \n",
       "15480  [{'id': 28, 'name': 'Action'}, {'id': 53, 'nam...  7.917588  \n",
       "12481  [{'id': 18, 'name': 'Drama'}, {'id': 28, 'name...  7.905871  \n",
       "22879  [{'id': 12, 'name': 'Adventure'}, {'id': 18, '...  7.897107  \n",
       "2843                       [{'id': 18, 'name': 'Drama'}]  7.881753  \n",
       "4863   [{'id': 12, 'name': 'Adventure'}, {'id': 14, '...  7.871787  \n",
       "292    [{'id': 53, 'name': 'Thriller'}, {'id': 80, 'n...  7.868660  \n",
       "314    [{'id': 18, 'name': 'Drama'}, {'id': 80, 'name...  7.864000  \n",
       "7000   [{'id': 12, 'name': 'Adventure'}, {'id': 14, '...  7.861927  \n",
       "351    [{'id': 35, 'name': 'Comedy'}, {'id': 18, 'nam...  7.860656  \n",
       "5814   [{'id': 12, 'name': 'Adventure'}, {'id': 14, '...  7.851924  \n",
       "256    [{'id': 12, 'name': 'Adventure'}, {'id': 28, '...  7.834205  \n",
       "1225   [{'id': 12, 'name': 'Adventure'}, {'id': 35, '...  7.820813  \n",
       "834    [{'id': 18, 'name': 'Drama'}, {'id': 80, 'name...  7.814847  \n",
       "1154   [{'id': 12, 'name': 'Adventure'}, {'id': 28, '...  7.814099  \n",
       "46     [{'id': 80, 'name': 'Crime'}, {'id': 9648, 'na...  7.811669  "
      ]
     },
     "execution_count": 21,
     "metadata": {},
     "output_type": "execute_result"
    }
   ],
   "source": [
    "qualified.head(15)"
   ]
  },
  {
   "cell_type": "markdown",
   "id": "5a1b0808-6435-4629-a1a9-9239e7729eef",
   "metadata": {},
   "source": [
    " We see that three Christopher Nolan Films, Inception, The Dark Knight and Interstellar occur at the very top of our chart. \n",
    "\n",
    " The chart also indicates a strong bias of TMDB Users towards particular genres and directors. \n",
    "\n",
    "Lets construct a function that builds charts for particular genres"
   ]
  },
  {
   "cell_type": "code",
   "execution_count": 22,
   "id": "99870c87-2e3a-46c0-82d4-a9d22d00b317",
   "metadata": {},
   "outputs": [],
   "source": [
    "s = df['genres'].explode().dropna()\n",
    "s = s.apply(lambda x: x['name'] if isinstance(x, dict) else None)\n",
    "s.name = 'genre'\n",
    "\n",
    "# Join back to the original DataFrame\n",
    "gen_df = df.drop('genres', axis=1).join(s) "
   ]
  },
  {
   "cell_type": "code",
   "execution_count": 23,
   "id": "eb808e8e-465a-4160-8bae-895297625676",
   "metadata": {},
   "outputs": [
    {
     "name": "stdout",
     "output_type": "stream",
     "text": [
      "Index(['adult', 'budget', 'id', 'imdb_id', 'original_language',\n",
      "       'original_title', 'overview', 'popularity', 'poster_path',\n",
      "       'production_companies', 'production_countries', 'release_date',\n",
      "       'revenue', 'runtime', 'spoken_languages', 'status', 'tagline', 'title',\n",
      "       'video', 'vote_average', 'vote_count', 'genre_names', 'year', 'genre'],\n",
      "      dtype='object')\n"
     ]
    }
   ],
   "source": [
    "print(gen_df.columns)"
   ]
  },
  {
   "cell_type": "code",
   "execution_count": 24,
   "id": "33bda2cc-d451-43b7-a493-ee3f46d9d590",
   "metadata": {},
   "outputs": [
    {
     "name": "stdout",
     "output_type": "stream",
     "text": [
      "['Animation' 'Comedy' 'Family' 'Adventure' 'Fantasy' 'Romance' 'Drama'\n",
      " 'Action' 'Crime' 'Thriller' 'Horror' 'History' 'Science Fiction'\n",
      " 'Mystery' 'War' 'Foreign' nan 'Music' 'Documentary' 'Western' 'TV Movie'\n",
      " 'Carousel Productions' 'Vision View Entertainment'\n",
      " 'Telescene Film Group Productions' 'Aniplex' 'GoHands' 'BROSTA TV'\n",
      " 'Mardock Scramble Production Committee' 'Sentai Filmworks'\n",
      " 'Odyssey Media' 'Pulser Productions' 'Rogue State' 'The Cartel']\n"
     ]
    }
   ],
   "source": [
    "print(gen_df['genre'].unique())  # Check unique genres in gen_df"
   ]
  },
  {
   "cell_type": "code",
   "execution_count": 25,
   "id": "026bd021-f7ac-44e0-9b58-8abdb8d4d8df",
   "metadata": {},
   "outputs": [],
   "source": [
    "def build_chart(genre, percentile=0.85):\n",
    "    df = gen_df[gen_df['genre'] == genre]\n",
    "    vote_counts = df[df['vote_count'].notnull()]['vote_count'].astype('int')\n",
    "    vote_averages = df[df['vote_average'].notnull()]['vote_average'].astype('int')\n",
    "    C = vote_averages.mean()\n",
    "    m = vote_counts.quantile(percentile)\n",
    "    \n",
    "    qualified = df[(df['vote_count'] >= m) & (df['vote_count'].notnull()) & (df['vote_average'].notnull())][['title', 'year', 'vote_count', 'vote_average', 'popularity']]\n",
    "    qualified['vote_count'] = qualified['vote_count'].astype('int')\n",
    "    qualified['vote_average'] = qualified['vote_average'].astype('int')\n",
    "    \n",
    "    qualified['wr'] = qualified.apply(lambda x: (x['vote_count']/(x['vote_count']+m) * x['vote_average']) + (m/(m+x['vote_count']) * C), axis=1)\n",
    "    qualified = qualified.sort_values('wr', ascending=False).head(250)\n",
    "    \n",
    "    return qualified"
   ]
  },
  {
   "cell_type": "markdown",
   "id": "6a163ec0-1f18-4067-8e1d-2cda5990bfe0",
   "metadata": {},
   "source": [
    "### Top Thriller Movies"
   ]
  },
  {
   "cell_type": "code",
   "execution_count": 26,
   "id": "ba7f20dc-0510-46ee-bd60-16161aac7317",
   "metadata": {},
   "outputs": [
    {
     "data": {
      "text/html": [
       "<div>\n",
       "<style scoped>\n",
       "    .dataframe tbody tr th:only-of-type {\n",
       "        vertical-align: middle;\n",
       "    }\n",
       "\n",
       "    .dataframe tbody tr th {\n",
       "        vertical-align: top;\n",
       "    }\n",
       "\n",
       "    .dataframe thead th {\n",
       "        text-align: right;\n",
       "    }\n",
       "</style>\n",
       "<table border=\"1\" class=\"dataframe\">\n",
       "  <thead>\n",
       "    <tr style=\"text-align: right;\">\n",
       "      <th></th>\n",
       "      <th>title</th>\n",
       "      <th>year</th>\n",
       "      <th>vote_count</th>\n",
       "      <th>vote_average</th>\n",
       "      <th>popularity</th>\n",
       "      <th>wr</th>\n",
       "    </tr>\n",
       "  </thead>\n",
       "  <tbody>\n",
       "    <tr>\n",
       "      <th>15480</th>\n",
       "      <td>Inception</td>\n",
       "      <td>2010</td>\n",
       "      <td>14075</td>\n",
       "      <td>8</td>\n",
       "      <td>29.108149</td>\n",
       "      <td>7.956460</td>\n",
       "    </tr>\n",
       "    <tr>\n",
       "      <th>12481</th>\n",
       "      <td>The Dark Knight</td>\n",
       "      <td>2008</td>\n",
       "      <td>12269</td>\n",
       "      <td>8</td>\n",
       "      <td>123.167259</td>\n",
       "      <td>7.950165</td>\n",
       "    </tr>\n",
       "    <tr>\n",
       "      <th>292</th>\n",
       "      <td>Pulp Fiction</td>\n",
       "      <td>1994</td>\n",
       "      <td>8670</td>\n",
       "      <td>8</td>\n",
       "      <td>140.950236</td>\n",
       "      <td>7.929996</td>\n",
       "    </tr>\n",
       "    <tr>\n",
       "      <th>46</th>\n",
       "      <td>Se7en</td>\n",
       "      <td>1995</td>\n",
       "      <td>5915</td>\n",
       "      <td>8</td>\n",
       "      <td>18.457430</td>\n",
       "      <td>7.898573</td>\n",
       "    </tr>\n",
       "    <tr>\n",
       "      <th>24860</th>\n",
       "      <td>The Imitation Game</td>\n",
       "      <td>2014</td>\n",
       "      <td>5895</td>\n",
       "      <td>8</td>\n",
       "      <td>31.595940</td>\n",
       "      <td>7.898242</td>\n",
       "    </tr>\n",
       "    <tr>\n",
       "      <th>586</th>\n",
       "      <td>The Silence of the Lambs</td>\n",
       "      <td>1991</td>\n",
       "      <td>4549</td>\n",
       "      <td>8</td>\n",
       "      <td>4.307222</td>\n",
       "      <td>7.869538</td>\n",
       "    </tr>\n",
       "    <tr>\n",
       "      <th>11354</th>\n",
       "      <td>The Prestige</td>\n",
       "      <td>2006</td>\n",
       "      <td>4510</td>\n",
       "      <td>8</td>\n",
       "      <td>16.945560</td>\n",
       "      <td>7.868463</td>\n",
       "    </tr>\n",
       "    <tr>\n",
       "      <th>289</th>\n",
       "      <td>Leon: The Professional</td>\n",
       "      <td>1994</td>\n",
       "      <td>4293</td>\n",
       "      <td>8</td>\n",
       "      <td>20.477329</td>\n",
       "      <td>7.862142</td>\n",
       "    </tr>\n",
       "    <tr>\n",
       "      <th>4099</th>\n",
       "      <td>Memento</td>\n",
       "      <td>2000</td>\n",
       "      <td>4168</td>\n",
       "      <td>8</td>\n",
       "      <td>15.450789</td>\n",
       "      <td>7.858217</td>\n",
       "    </tr>\n",
       "    <tr>\n",
       "      <th>1213</th>\n",
       "      <td>The Shining</td>\n",
       "      <td>1980</td>\n",
       "      <td>3890</td>\n",
       "      <td>8</td>\n",
       "      <td>19.611589</td>\n",
       "      <td>7.848633</td>\n",
       "    </tr>\n",
       "  </tbody>\n",
       "</table>\n",
       "</div>"
      ],
      "text/plain": [
       "                          title  year  vote_count  vote_average  popularity  \\\n",
       "15480                 Inception  2010       14075             8   29.108149   \n",
       "12481           The Dark Knight  2008       12269             8  123.167259   \n",
       "292                Pulp Fiction  1994        8670             8  140.950236   \n",
       "46                        Se7en  1995        5915             8   18.457430   \n",
       "24860        The Imitation Game  2014        5895             8   31.595940   \n",
       "586    The Silence of the Lambs  1991        4549             8    4.307222   \n",
       "11354              The Prestige  2006        4510             8   16.945560   \n",
       "289      Leon: The Professional  1994        4293             8   20.477329   \n",
       "4099                    Memento  2000        4168             8   15.450789   \n",
       "1213                The Shining  1980        3890             8   19.611589   \n",
       "\n",
       "             wr  \n",
       "15480  7.956460  \n",
       "12481  7.950165  \n",
       "292    7.929996  \n",
       "46     7.898573  \n",
       "24860  7.898242  \n",
       "586    7.869538  \n",
       "11354  7.868463  \n",
       "289    7.862142  \n",
       "4099   7.858217  \n",
       "1213   7.848633  "
      ]
     },
     "execution_count": 26,
     "metadata": {},
     "output_type": "execute_result"
    }
   ],
   "source": [
    "build_chart('Thriller').head(10)"
   ]
  },
  {
   "cell_type": "markdown",
   "id": "1fcc14a6-0b4f-448c-94ca-ef123494e51c",
   "metadata": {},
   "source": [
    "### Top Romance Movies"
   ]
  },
  {
   "cell_type": "code",
   "execution_count": 27,
   "id": "670f4bf6-e973-443d-9a98-ac411de323dc",
   "metadata": {},
   "outputs": [
    {
     "data": {
      "text/html": [
       "<div>\n",
       "<style scoped>\n",
       "    .dataframe tbody tr th:only-of-type {\n",
       "        vertical-align: middle;\n",
       "    }\n",
       "\n",
       "    .dataframe tbody tr th {\n",
       "        vertical-align: top;\n",
       "    }\n",
       "\n",
       "    .dataframe thead th {\n",
       "        text-align: right;\n",
       "    }\n",
       "</style>\n",
       "<table border=\"1\" class=\"dataframe\">\n",
       "  <thead>\n",
       "    <tr style=\"text-align: right;\">\n",
       "      <th></th>\n",
       "      <th>title</th>\n",
       "      <th>year</th>\n",
       "      <th>vote_count</th>\n",
       "      <th>vote_average</th>\n",
       "      <th>popularity</th>\n",
       "      <th>wr</th>\n",
       "    </tr>\n",
       "  </thead>\n",
       "  <tbody>\n",
       "    <tr>\n",
       "      <th>10309</th>\n",
       "      <td>Dilwale Dulhania Le Jayenge</td>\n",
       "      <td>1995</td>\n",
       "      <td>661</td>\n",
       "      <td>9</td>\n",
       "      <td>34.457024</td>\n",
       "      <td>8.565285</td>\n",
       "    </tr>\n",
       "    <tr>\n",
       "      <th>351</th>\n",
       "      <td>Forrest Gump</td>\n",
       "      <td>1994</td>\n",
       "      <td>8147</td>\n",
       "      <td>8</td>\n",
       "      <td>48.307194</td>\n",
       "      <td>7.971357</td>\n",
       "    </tr>\n",
       "    <tr>\n",
       "      <th>876</th>\n",
       "      <td>Vertigo</td>\n",
       "      <td>1958</td>\n",
       "      <td>1162</td>\n",
       "      <td>8</td>\n",
       "      <td>18.208220</td>\n",
       "      <td>7.811667</td>\n",
       "    </tr>\n",
       "    <tr>\n",
       "      <th>40251</th>\n",
       "      <td>Your Name.</td>\n",
       "      <td>2016</td>\n",
       "      <td>1030</td>\n",
       "      <td>8</td>\n",
       "      <td>34.461252</td>\n",
       "      <td>7.789489</td>\n",
       "    </tr>\n",
       "    <tr>\n",
       "      <th>883</th>\n",
       "      <td>Some Like It Hot</td>\n",
       "      <td>1959</td>\n",
       "      <td>835</td>\n",
       "      <td>8</td>\n",
       "      <td>11.845107</td>\n",
       "      <td>7.745154</td>\n",
       "    </tr>\n",
       "    <tr>\n",
       "      <th>1132</th>\n",
       "      <td>Cinema Paradiso</td>\n",
       "      <td>1988</td>\n",
       "      <td>834</td>\n",
       "      <td>8</td>\n",
       "      <td>14.177005</td>\n",
       "      <td>7.744878</td>\n",
       "    </tr>\n",
       "    <tr>\n",
       "      <th>19901</th>\n",
       "      <td>Paperman</td>\n",
       "      <td>2012</td>\n",
       "      <td>734</td>\n",
       "      <td>8</td>\n",
       "      <td>7.198633</td>\n",
       "      <td>7.713951</td>\n",
       "    </tr>\n",
       "    <tr>\n",
       "      <th>37863</th>\n",
       "      <td>Sing Street</td>\n",
       "      <td>2016</td>\n",
       "      <td>669</td>\n",
       "      <td>8</td>\n",
       "      <td>10.672862</td>\n",
       "      <td>7.689483</td>\n",
       "    </tr>\n",
       "    <tr>\n",
       "      <th>882</th>\n",
       "      <td>The Apartment</td>\n",
       "      <td>1960</td>\n",
       "      <td>498</td>\n",
       "      <td>8</td>\n",
       "      <td>11.994281</td>\n",
       "      <td>7.599317</td>\n",
       "    </tr>\n",
       "    <tr>\n",
       "      <th>38718</th>\n",
       "      <td>The Handmaiden</td>\n",
       "      <td>2016</td>\n",
       "      <td>453</td>\n",
       "      <td>8</td>\n",
       "      <td>16.727405</td>\n",
       "      <td>7.566166</td>\n",
       "    </tr>\n",
       "  </tbody>\n",
       "</table>\n",
       "</div>"
      ],
      "text/plain": [
       "                             title  year  vote_count  vote_average  \\\n",
       "10309  Dilwale Dulhania Le Jayenge  1995         661             9   \n",
       "351                   Forrest Gump  1994        8147             8   \n",
       "876                        Vertigo  1958        1162             8   \n",
       "40251                   Your Name.  2016        1030             8   \n",
       "883               Some Like It Hot  1959         835             8   \n",
       "1132               Cinema Paradiso  1988         834             8   \n",
       "19901                     Paperman  2012         734             8   \n",
       "37863                  Sing Street  2016         669             8   \n",
       "882                  The Apartment  1960         498             8   \n",
       "38718               The Handmaiden  2016         453             8   \n",
       "\n",
       "       popularity        wr  \n",
       "10309   34.457024  8.565285  \n",
       "351     48.307194  7.971357  \n",
       "876     18.208220  7.811667  \n",
       "40251   34.461252  7.789489  \n",
       "883     11.845107  7.745154  \n",
       "1132    14.177005  7.744878  \n",
       "19901    7.198633  7.713951  \n",
       "37863   10.672862  7.689483  \n",
       "882     11.994281  7.599317  \n",
       "38718   16.727405  7.566166  "
      ]
     },
     "execution_count": 27,
     "metadata": {},
     "output_type": "execute_result"
    }
   ],
   "source": [
    "build_chart('Romance').head(10)"
   ]
  },
  {
   "cell_type": "markdown",
   "id": "85970e69-5811-4c9a-8d88-006c24a1cd0f",
   "metadata": {},
   "source": [
    "### Top Movies by Popularity"
   ]
  },
  {
   "cell_type": "code",
   "execution_count": 28,
   "id": "eeb28167-e73c-4f6d-9d5e-dfcd8eb8cf3c",
   "metadata": {},
   "outputs": [],
   "source": [
    "qualified['popularity'] = pd.to_numeric(qualified['popularity'], errors='coerce')"
   ]
  },
  {
   "cell_type": "code",
   "execution_count": 29,
   "id": "49c5f804-13ac-45ea-8a36-b1513b74bbe3",
   "metadata": {},
   "outputs": [],
   "source": [
    "qualified.dropna(subset=['popularity'], inplace=True)"
   ]
  },
  {
   "cell_type": "code",
   "execution_count": 30,
   "id": "8b7f0aa7-ecc7-4a04-acc2-0250b1c992d0",
   "metadata": {},
   "outputs": [],
   "source": [
    "# Popularity-based recommender\n",
    "popular_movies = qualified[['title', 'popularity']].sort_values(by='popularity', ascending=False)"
   ]
  },
  {
   "cell_type": "code",
   "execution_count": 31,
   "id": "9d9e1e0f-af0e-4b11-b981-6d64e5177111",
   "metadata": {},
   "outputs": [
    {
     "data": {
      "text/html": [
       "<div>\n",
       "<style scoped>\n",
       "    .dataframe tbody tr th:only-of-type {\n",
       "        vertical-align: middle;\n",
       "    }\n",
       "\n",
       "    .dataframe tbody tr th {\n",
       "        vertical-align: top;\n",
       "    }\n",
       "\n",
       "    .dataframe thead th {\n",
       "        text-align: right;\n",
       "    }\n",
       "</style>\n",
       "<table border=\"1\" class=\"dataframe\">\n",
       "  <thead>\n",
       "    <tr style=\"text-align: right;\">\n",
       "      <th></th>\n",
       "      <th>title</th>\n",
       "      <th>popularity</th>\n",
       "    </tr>\n",
       "  </thead>\n",
       "  <tbody>\n",
       "    <tr>\n",
       "      <th>33356</th>\n",
       "      <td>Wonder Woman</td>\n",
       "      <td>294.337037</td>\n",
       "    </tr>\n",
       "    <tr>\n",
       "      <th>24455</th>\n",
       "      <td>Big Hero 6</td>\n",
       "      <td>213.849907</td>\n",
       "    </tr>\n",
       "    <tr>\n",
       "      <th>26564</th>\n",
       "      <td>Deadpool</td>\n",
       "      <td>187.860492</td>\n",
       "    </tr>\n",
       "    <tr>\n",
       "      <th>26566</th>\n",
       "      <td>Guardians of the Galaxy Vol. 2</td>\n",
       "      <td>185.330992</td>\n",
       "    </tr>\n",
       "    <tr>\n",
       "      <th>14551</th>\n",
       "      <td>Avatar</td>\n",
       "      <td>185.070892</td>\n",
       "    </tr>\n",
       "    <tr>\n",
       "      <th>24351</th>\n",
       "      <td>John Wick</td>\n",
       "      <td>183.870374</td>\n",
       "    </tr>\n",
       "    <tr>\n",
       "      <th>23675</th>\n",
       "      <td>Gone Girl</td>\n",
       "      <td>154.801009</td>\n",
       "    </tr>\n",
       "    <tr>\n",
       "      <th>26567</th>\n",
       "      <td>Captain America: Civil War</td>\n",
       "      <td>145.882135</td>\n",
       "    </tr>\n",
       "    <tr>\n",
       "      <th>292</th>\n",
       "      <td>Pulp Fiction</td>\n",
       "      <td>140.950236</td>\n",
       "    </tr>\n",
       "    <tr>\n",
       "      <th>12481</th>\n",
       "      <td>The Dark Knight</td>\n",
       "      <td>123.167259</td>\n",
       "    </tr>\n",
       "    <tr>\n",
       "      <th>536</th>\n",
       "      <td>Blade Runner</td>\n",
       "      <td>96.272374</td>\n",
       "    </tr>\n",
       "    <tr>\n",
       "      <th>17818</th>\n",
       "      <td>The Avengers</td>\n",
       "      <td>89.887648</td>\n",
       "    </tr>\n",
       "    <tr>\n",
       "      <th>24121</th>\n",
       "      <td>The Maze Runner</td>\n",
       "      <td>76.937890</td>\n",
       "    </tr>\n",
       "    <tr>\n",
       "      <th>23692</th>\n",
       "      <td>Dawn of the Planet of the Apes</td>\n",
       "      <td>75.385211</td>\n",
       "    </tr>\n",
       "    <tr>\n",
       "      <th>23673</th>\n",
       "      <td>Whiplash</td>\n",
       "      <td>64.299990</td>\n",
       "    </tr>\n",
       "  </tbody>\n",
       "</table>\n",
       "</div>"
      ],
      "text/plain": [
       "                                title  popularity\n",
       "33356                    Wonder Woman  294.337037\n",
       "24455                      Big Hero 6  213.849907\n",
       "26564                        Deadpool  187.860492\n",
       "26566  Guardians of the Galaxy Vol. 2  185.330992\n",
       "14551                          Avatar  185.070892\n",
       "24351                       John Wick  183.870374\n",
       "23675                       Gone Girl  154.801009\n",
       "26567      Captain America: Civil War  145.882135\n",
       "292                      Pulp Fiction  140.950236\n",
       "12481                 The Dark Knight  123.167259\n",
       "536                      Blade Runner   96.272374\n",
       "17818                    The Avengers   89.887648\n",
       "24121                 The Maze Runner   76.937890\n",
       "23692  Dawn of the Planet of the Apes   75.385211\n",
       "23673                        Whiplash   64.299990"
      ]
     },
     "execution_count": 31,
     "metadata": {},
     "output_type": "execute_result"
    }
   ],
   "source": [
    "popular_movies.head(15)"
   ]
  },
  {
   "cell_type": "markdown",
   "id": "3857b6f6-76f2-41da-97ca-a1649848b7aa",
   "metadata": {},
   "source": [
    "## Content-Based Recommender\n",
    "The recommender system built in the previous section has limitations. It provides the same recommendations to all users, disregarding personal tastes. For example, someone who loves romantic movies like Dilwale Dulhania Le Jayenge or Kabhi Khushi Kabhi Gham might not find these movies in the top recommendations, even if they look at genre-specific charts.\n",
    "\n",
    "To improve personalization, we'll develop a system that computes movie similarity based on metrics and suggests movies similar to those a user likes. By leveraging movie metadata, this approach, known as Content-Based Filtering, tailors recommendations to individual preferences. For instance, if a user enjoys films by Shahrukh Khan or Karan Johar, the system will highlight similar movies featuring these elements, enhancing the relevance of recommendations."
   ]
  },
  {
   "cell_type": "code",
   "execution_count": 32,
   "id": "6f6d5d3b-a0ba-4072-96c1-0f5dd08ca3a4",
   "metadata": {},
   "outputs": [],
   "source": [
    "links_small = pd.read_csv('links_small.csv')\n",
    "links_small = links_small[links_small['tmdbId'].notnull()]['tmdbId'].astype('int')"
   ]
  },
  {
   "cell_type": "code",
   "execution_count": 33,
   "id": "15289ab2-13b2-402e-8bc1-22b8892cd99e",
   "metadata": {},
   "outputs": [
    {
     "data": {
      "text/plain": [
       "19730    1997-08-20\n",
       "29503    2012-09-29\n",
       "35587    2014-01-01\n",
       "Name: id, dtype: object"
      ]
     },
     "execution_count": 33,
     "metadata": {},
     "output_type": "execute_result"
    }
   ],
   "source": [
    "df['id'][~df['id'].str.isnumeric()]"
   ]
  },
  {
   "cell_type": "markdown",
   "id": "6d61377f-64a1-485e-92b4-4fef2519c109",
   "metadata": {},
   "source": [
    "We can see that these rows have non-numeric values in column 'id'."
   ]
  },
  {
   "cell_type": "code",
   "execution_count": 34,
   "id": "56729371-b575-4563-9f78-b80a4c7c07e5",
   "metadata": {},
   "outputs": [],
   "source": [
    "df = df.drop([19730, 29503, 35587])"
   ]
  },
  {
   "cell_type": "code",
   "execution_count": 35,
   "id": "466a6fbd-6dce-48a6-a3af-d693d64e6fe3",
   "metadata": {},
   "outputs": [],
   "source": [
    "df['id'] = df['id'].astype('int')"
   ]
  },
  {
   "cell_type": "code",
   "execution_count": 36,
   "id": "d59e3e17-1e87-4cbb-8949-ca5736c10102",
   "metadata": {},
   "outputs": [
    {
     "data": {
      "text/plain": [
       "(9099, 24)"
      ]
     },
     "execution_count": 36,
     "metadata": {},
     "output_type": "execute_result"
    }
   ],
   "source": [
    "small_df = df[df['id'].isin(links_small)]\n",
    "small_df.shape"
   ]
  },
  {
   "cell_type": "markdown",
   "id": "34d48f70-06ec-4ca2-89e3-cb3c034ca8c1",
   "metadata": {},
   "source": [
    "This means that there are **9099** movies in movies_metadata dataset with the same id as links_small"
   ]
  },
  {
   "cell_type": "markdown",
   "id": "d1f5fdfb-f998-4c40-a802-96429348962e",
   "metadata": {},
   "source": [
    "#### Description Based Recommender"
   ]
  },
  {
   "cell_type": "code",
   "execution_count": 37,
   "id": "d1f073e8-fd23-437a-82a3-15ad112076eb",
   "metadata": {},
   "outputs": [],
   "source": [
    "small_df['tagline'] = small_df['tagline'].fillna('')\n",
    "small_df['description'] = small_df['overview'] + small_df['tagline']\n",
    "small_df['description'] = small_df['description'].fillna('')"
   ]
  },
  {
   "cell_type": "code",
   "execution_count": 38,
   "id": "f33fd9bb-2c42-4d0e-bfa2-24379d776baf",
   "metadata": {},
   "outputs": [],
   "source": [
    "from sklearn.feature_extraction.text import TfidfVectorizer, CountVectorizer\n",
    "from sklearn.metrics.pairwise import linear_kernel, cosine_similarity\n",
    "\n",
    "tf = TfidfVectorizer(analyzer='word',ngram_range=(1, 2),min_df=0.0, stop_words='english')\n",
    "tf_matrix = tf.fit_transform(small_df['description'])"
   ]
  },
  {
   "cell_type": "code",
   "execution_count": 39,
   "id": "72fc3108-6042-4710-a8b5-7b7bb518dedd",
   "metadata": {},
   "outputs": [
    {
     "data": {
      "text/plain": [
       "(9099, 268124)"
      ]
     },
     "execution_count": 39,
     "metadata": {},
     "output_type": "execute_result"
    }
   ],
   "source": [
    "tf_matrix.shape"
   ]
  },
  {
   "cell_type": "code",
   "execution_count": 40,
   "id": "0dc89a61-5151-46e6-824e-6d9038e222ad",
   "metadata": {},
   "outputs": [],
   "source": [
    "cosine_sim = linear_kernel(tf_matrix, tf_matrix)"
   ]
  },
  {
   "cell_type": "code",
   "execution_count": 41,
   "id": "4938177e-2af0-49b3-9b61-6369c2d30391",
   "metadata": {},
   "outputs": [
    {
     "data": {
      "text/plain": [
       "array([1.        , 0.00680476, 0.        , ..., 0.        , 0.00344913,\n",
       "       0.        ])"
      ]
     },
     "execution_count": 41,
     "metadata": {},
     "output_type": "execute_result"
    }
   ],
   "source": [
    "cosine_sim[0]"
   ]
  },
  {
   "cell_type": "code",
   "execution_count": 42,
   "id": "5d46fc9b-b8e5-4d22-918e-dc7fdbf1b09f",
   "metadata": {},
   "outputs": [],
   "source": [
    "small_df = small_df.reset_index()\n",
    "titles = small_df['title']\n",
    "indices = pd.Series(small_df.index, index=small_df['title'])"
   ]
  },
  {
   "cell_type": "code",
   "execution_count": 43,
   "id": "c81f2459-6424-46a7-8e63-dcc08052fc12",
   "metadata": {},
   "outputs": [],
   "source": [
    "def get_recommendations(title):\n",
    "    idx = indices[title]\n",
    "    sim_scores = cosine_sim[idx]\n",
    "    movie_indices = sim_scores.argsort()[::-1][1:31]\n",
    "    return titles.iloc[movie_indices]\n"
   ]
  },
  {
   "cell_type": "code",
   "execution_count": 44,
   "id": "a1d53610-9349-4e00-8d6b-02d1385c9874",
   "metadata": {},
   "outputs": [
    {
     "data": {
      "text/plain": [
       "8616                                        The Dog\n",
       "8858                                  Welcome to Me\n",
       "3859          Morgan: A Suitable Case for Treatment\n",
       "5235                          School for Scoundrels\n",
       "2867                                        Screwed\n",
       "8538                                      Wake Wood\n",
       "8348                             Revenge for Jolly!\n",
       "5290                                       The Trip\n",
       "2922                                          Benji\n",
       "210     Far from Home: The Adventures of Yellow Dog\n",
       "Name: title, dtype: object"
      ]
     },
     "execution_count": 44,
     "metadata": {},
     "output_type": "execute_result"
    }
   ],
   "source": [
    "get_recommendations('John Wick').head(10)"
   ]
  },
  {
   "cell_type": "code",
   "execution_count": 45,
   "id": "dde8f65b-e435-4934-ae8a-c7733e18ea27",
   "metadata": {},
   "outputs": [
    {
     "data": {
      "text/plain": [
       "7931                      The Dark Knight Rises\n",
       "132                              Batman Forever\n",
       "1113                             Batman Returns\n",
       "8227    Batman: The Dark Knight Returns, Part 2\n",
       "7565                 Batman: Under the Red Hood\n",
       "524                                      Batman\n",
       "7901                           Batman: Year One\n",
       "2579               Batman: Mask of the Phantasm\n",
       "2696                                        JFK\n",
       "8165    Batman: The Dark Knight Returns, Part 1\n",
       "Name: title, dtype: object"
      ]
     },
     "execution_count": 45,
     "metadata": {},
     "output_type": "execute_result"
    }
   ],
   "source": [
    "get_recommendations('The Dark Knight').head(10)"
   ]
  },
  {
   "cell_type": "markdown",
   "id": "5e71f495-a408-4946-add1-f87f426f8810",
   "metadata": {},
   "source": [
    "When we pass **\"The Dark Knight\"** as title , it identify that it is a _Batman film_ and subsequently recommend other Batman films as its top recommendations."
   ]
  },
  {
   "cell_type": "markdown",
   "id": "bba0266b-caf7-45fb-8cc0-7f5c43e5d7fa",
   "metadata": {},
   "source": [
    "#### Metadata Based Recommender"
   ]
  },
  {
   "cell_type": "code",
   "execution_count": 46,
   "id": "21ea2a55-4a6f-49bf-81f7-d827d658bc81",
   "metadata": {},
   "outputs": [],
   "source": [
    "credits = pd.read_csv('credits.csv')\n",
    "keywords = pd.read_csv('keywords.csv')"
   ]
  },
  {
   "cell_type": "code",
   "execution_count": 47,
   "id": "809c765e-9097-44cc-a692-973e45294a3d",
   "metadata": {},
   "outputs": [
    {
     "name": "stdout",
     "output_type": "stream",
     "text": [
      "<class 'pandas.core.frame.DataFrame'>\n",
      "RangeIndex: 45476 entries, 0 to 45475\n",
      "Data columns (total 3 columns):\n",
      " #   Column  Non-Null Count  Dtype \n",
      "---  ------  --------------  ----- \n",
      " 0   cast    45476 non-null  object\n",
      " 1   crew    45476 non-null  object\n",
      " 2   id      45476 non-null  int64 \n",
      "dtypes: int64(1), object(2)\n",
      "memory usage: 1.0+ MB\n"
     ]
    }
   ],
   "source": [
    "credits.info()"
   ]
  },
  {
   "cell_type": "code",
   "execution_count": 48,
   "id": "f3b976b6-f70c-4cdc-bccf-be631d3770c1",
   "metadata": {},
   "outputs": [
    {
     "name": "stdout",
     "output_type": "stream",
     "text": [
      "<class 'pandas.core.frame.DataFrame'>\n",
      "RangeIndex: 46419 entries, 0 to 46418\n",
      "Data columns (total 2 columns):\n",
      " #   Column    Non-Null Count  Dtype \n",
      "---  ------    --------------  ----- \n",
      " 0   id        46419 non-null  int64 \n",
      " 1   keywords  46419 non-null  object\n",
      "dtypes: int64(1), object(1)\n",
      "memory usage: 725.4+ KB\n"
     ]
    }
   ],
   "source": [
    "keywords.info()"
   ]
  },
  {
   "cell_type": "code",
   "execution_count": 49,
   "id": "6c0310f5-f39b-4f44-a8ea-d560e71ccb8d",
   "metadata": {},
   "outputs": [],
   "source": [
    "keywords['id'] = keywords['id'].astype('int')\n",
    "credits['id'] = credits['id'].astype('int')\n",
    "df['id'] = df['id'].astype('int')"
   ]
  },
  {
   "cell_type": "code",
   "execution_count": 50,
   "id": "ffbe343a-d531-49fa-b759-f14f23a885c2",
   "metadata": {},
   "outputs": [],
   "source": [
    "df = df.merge(credits, on='id')\n",
    "df = df.merge(keywords, on='id')"
   ]
  },
  {
   "cell_type": "code",
   "execution_count": 51,
   "id": "73d2bdf9-c2a8-4a81-bc60-879326648d5f",
   "metadata": {},
   "outputs": [
    {
     "data": {
      "text/plain": [
       "(9219, 27)"
      ]
     },
     "execution_count": 51,
     "metadata": {},
     "output_type": "execute_result"
    }
   ],
   "source": [
    "small_df = df[df['id'].isin(links_small)]\n",
    "small_df.shape"
   ]
  },
  {
   "cell_type": "markdown",
   "id": "9e6f3a82-d69a-48fb-8926-9ba6485716a9",
   "metadata": {},
   "source": [
    "We will refine our dataframe by focusing on specific features:\n",
    "\n",
    "**Crew**: Only include the director, as other roles are less impactful for the movie's feel.\n",
    "\n",
    "**Cast**: Select the top 3 major actors from the credits, since lesser-known actors and minor roles don't significantly influence opinions.\n",
    "\n",
    "This will streamline our data to emphasize key elements."
   ]
  },
  {
   "cell_type": "code",
   "execution_count": 52,
   "id": "78f8fa01-b321-44e0-b827-612b8d0d9705",
   "metadata": {},
   "outputs": [],
   "source": [
    "from ast import literal_eval\n",
    "\n",
    "small_df['cast'] = small_df['cast'].apply(literal_eval)\n",
    "small_df['crew'] = small_df['crew'].apply(literal_eval)\n",
    "small_df['keywords'] = small_df['keywords'].apply(literal_eval)\n",
    "small_df['cast_size'] = small_df['cast'].apply(lambda x: len(x))\n",
    "small_df['crew_size'] = small_df['crew'].apply(lambda x: len(x))"
   ]
  },
  {
   "cell_type": "code",
   "execution_count": 53,
   "id": "3a50896b-b569-4f88-a2bb-298f0257608c",
   "metadata": {},
   "outputs": [],
   "source": [
    "def get_director(x):\n",
    "    for i in x:\n",
    "        if i['job'] == 'Director':\n",
    "            return i['name']\n",
    "    return np.nan"
   ]
  },
  {
   "cell_type": "code",
   "execution_count": 54,
   "id": "714a8acd-325f-48ba-a12d-7904c62d2371",
   "metadata": {},
   "outputs": [],
   "source": [
    "small_df['director'] = small_df['crew'].apply(get_director)"
   ]
  },
  {
   "cell_type": "code",
   "execution_count": 55,
   "id": "7fedd0e4-3e56-42a5-b186-f4a2b31fb633",
   "metadata": {},
   "outputs": [],
   "source": [
    "small_df['cast'] = small_df['cast'].apply(lambda x: [i['name'] for i in x] if isinstance(x, list) else [])\n",
    "small_df['cast'] = small_df['cast'].apply(lambda x: x[:3] if len(x) >=3 else x)"
   ]
  },
  {
   "cell_type": "code",
   "execution_count": 56,
   "id": "6fe1da15-c013-4f1d-9d27-7ec4a851e322",
   "metadata": {},
   "outputs": [],
   "source": [
    "small_df['keywords'] = small_df['keywords'].apply(lambda x: [i['name'] for i in x] if isinstance(x, list) else [])"
   ]
  },
  {
   "cell_type": "code",
   "execution_count": 57,
   "id": "642990fd-f796-41a4-99b1-d6b66e98c982",
   "metadata": {},
   "outputs": [],
   "source": [
    "# Converting each cast member's name to lowercase & Removing spaces from each cast member's name\n",
    "small_df['cast'] = small_df['cast'].apply(lambda x: [str.lower(i.replace(\" \", \"\")) for i in x])"
   ]
  },
  {
   "cell_type": "code",
   "execution_count": 58,
   "id": "8f41c9f5-d37c-4363-b39a-f4c4d48014ac",
   "metadata": {},
   "outputs": [],
   "source": [
    "# Normalize 'director' names by converting to lowercase, removing spaces, and duplicating each name three times\n",
    "\n",
    "small_df['director'] = small_df['director'].astype('str').apply(lambda x: str.lower(x.replace(\" \", \"\")))\n",
    "small_df['director'] = small_df['director'].apply(lambda x: [x,x, x])"
   ]
  },
  {
   "cell_type": "code",
   "execution_count": 59,
   "id": "2bc9e0c2-494f-440c-b08a-e15cefcff94a",
   "metadata": {},
   "outputs": [],
   "source": [
    "s = small_df.apply(lambda x: pd.Series(x['keywords']),axis=1).stack().reset_index(level=1, drop=True)\n",
    "s.name = 'keyword'"
   ]
  },
  {
   "cell_type": "code",
   "execution_count": 60,
   "id": "00876476-8092-49dc-8891-1b1e2181f155",
   "metadata": {},
   "outputs": [
    {
     "data": {
      "text/plain": [
       "keyword\n",
       "independent film         610\n",
       "woman director           550\n",
       "murder                   399\n",
       "duringcreditsstinger     327\n",
       "based on novel           318\n",
       "                        ... \n",
       "summer cottage             1\n",
       "kitchen sink realism       1\n",
       "motion picture studio      1\n",
       "driving in the rain        1\n",
       "toyko                      1\n",
       "Name: count, Length: 12940, dtype: int64"
      ]
     },
     "execution_count": 60,
     "metadata": {},
     "output_type": "execute_result"
    }
   ],
   "source": [
    "s = s.value_counts()\n",
    "s"
   ]
  },
  {
   "cell_type": "code",
   "execution_count": 61,
   "id": "83e951d5-c763-438a-ad75-d50481b43dbd",
   "metadata": {},
   "outputs": [],
   "source": [
    "# Filtering out keywords that occur only once\n",
    "s = s[s > 1]"
   ]
  },
  {
   "cell_type": "markdown",
   "id": "8e5c4c7b-228d-499e-af79-c82a1e72b114",
   "metadata": {},
   "source": [
    "The **SnowballStemmer** can be used for stemming, which reduces words to their root form. This helps in normalizing words for text processing tasks by removing suffixes and reducing variations (e.g., \"running\" to \"run\"). It's useful for improving the effectiveness of text analysis and natural language processing by treating related words uniformly."
   ]
  },
  {
   "cell_type": "code",
   "execution_count": 62,
   "id": "69dedd5e-6d30-454a-9168-fba1fd67a071",
   "metadata": {},
   "outputs": [],
   "source": [
    "from nltk.stem.snowball import SnowballStemmer\n",
    "stemmer = SnowballStemmer('english')"
   ]
  },
  {
   "cell_type": "code",
   "execution_count": 63,
   "id": "8c435b0e-c4da-4f58-bc6e-b07dff5f67fc",
   "metadata": {},
   "outputs": [],
   "source": [
    "def filter_keywords(x):\n",
    "    words = []\n",
    "    for i in x:\n",
    "        if i in s:\n",
    "            words.append(i)\n",
    "    return words"
   ]
  },
  {
   "cell_type": "code",
   "execution_count": 64,
   "id": "53277f9a-e1dd-4b10-be34-dbc480b21f09",
   "metadata": {},
   "outputs": [],
   "source": [
    "#Process keywords by filtering, stemming, and normalizing text\n",
    "\n",
    "small_df['keywords'] = small_df['keywords'].apply(filter_keywords)\n",
    "small_df['keywords'] = small_df['keywords'].apply(lambda x: [stemmer.stem(i) for i in x])\n",
    "small_df['keywords'] = small_df['keywords'].apply(lambda x: [str.lower(i.replace(\" \", \"\")) for i in x])"
   ]
  },
  {
   "cell_type": "code",
   "execution_count": 65,
   "id": "d05cced3-2973-47ce-9ec5-5d0318f68ff7",
   "metadata": {},
   "outputs": [],
   "source": [
    "# Combine the features\n",
    "small_df['feature_comb'] = small_df['keywords'] + small_df['cast'] + small_df['director'] + small_df['genres']\n",
    "\n",
    "# Convert all elements in the combined lists to strings and join them\n",
    "small_df['feature_comb'] = small_df['feature_comb'].apply(lambda x: ' '.join(str(i) for i in x))"
   ]
  },
  {
   "cell_type": "code",
   "execution_count": 66,
   "id": "49727c30-a748-4596-9bf1-67130449ecbb",
   "metadata": {},
   "outputs": [],
   "source": [
    "# Create a CountVectorizer to convert text data into a matrix of token counts\n",
    "count = CountVectorizer(analyzer='word',ngram_range=(1, 2),min_df=0.0, stop_words='english')\n",
    "count_matrix = count.fit_transform(small_df['feature_comb'])"
   ]
  },
  {
   "cell_type": "code",
   "execution_count": 67,
   "id": "74986913-62fa-449e-b60c-d2cc3d370a73",
   "metadata": {},
   "outputs": [],
   "source": [
    "cosine_sim = cosine_similarity(count_matrix, count_matrix)"
   ]
  },
  {
   "cell_type": "code",
   "execution_count": 68,
   "id": "a8505bfe-a4d2-4ae1-b258-bf450d5ec4d8",
   "metadata": {},
   "outputs": [],
   "source": [
    "small_df = small_df.reset_index()\n",
    "titles = small_df['title']\n",
    "indices = pd.Series(small_df.index, index=small_df['title'])"
   ]
  },
  {
   "cell_type": "markdown",
   "id": "a0647cdf-0045-475e-92fc-0fa22dc0fa63",
   "metadata": {},
   "source": [
    "We’ll use the previously defined get_recommendations function to get movie suggestions. Given the updated cosine similarity scores, the recommendations for \"The Dark Knight\" should now differ and likely improve. Let’s run the function again to see the new results."
   ]
  },
  {
   "cell_type": "code",
   "execution_count": 69,
   "id": "8cb13e8d-60a6-48c5-b8f1-c07211fa1c77",
   "metadata": {},
   "outputs": [
    {
     "data": {
      "text/plain": [
       "7991      The Dark Knight Rises\n",
       "6186              Batman Begins\n",
       "2077                  Following\n",
       "8899    Kidnapping Mr. Heineken\n",
       "6609                Harsh Times\n",
       "3631            An Innocent Man\n",
       "6587               The Prestige\n",
       "7872                     Takers\n",
       "3054                White Sands\n",
       "5346                     Harper\n",
       "Name: title, dtype: object"
      ]
     },
     "execution_count": 69,
     "metadata": {},
     "output_type": "execute_result"
    }
   ],
   "source": [
    "get_recommendations('The Dark Knight').head(10)"
   ]
  },
  {
   "cell_type": "markdown",
   "id": "5e53847c-13c9-433a-ae7e-7ab51ffb25fa",
   "metadata": {},
   "source": [
    "The recommendations now highlight other Christopher Nolan films, reflecting the increased emphasis on the director feature. Notably, movies like _Batman Begins_, _The Prestige_, and _The Dark Knight Rises_ appeared in the top recommendations, which aligns well with my preferences."
   ]
  },
  {
   "cell_type": "code",
   "execution_count": 70,
   "id": "866e00c2-6766-4b5d-b16d-fc7ce436c348",
   "metadata": {},
   "outputs": [
    {
     "data": {
      "text/plain": [
       "522             Terminator 2: Judgment Day\n",
       "962                                 Aliens\n",
       "910                              The Abyss\n",
       "8822                    Terminator Genisys\n",
       "4711    Terminator 3: Rise of the Machines\n",
       "344                              True Lies\n",
       "7444                                Avatar\n",
       "7527                              Repo Men\n",
       "4568                              The Core\n",
       "3603                              Watchers\n",
       "Name: title, dtype: object"
      ]
     },
     "execution_count": 70,
     "metadata": {},
     "output_type": "execute_result"
    }
   ],
   "source": [
    "get_recommendations('The Terminator').head(10)"
   ]
  },
  {
   "cell_type": "markdown",
   "id": "16f33308-a5e8-403d-8db9-46408cf34e58",
   "metadata": {},
   "source": [
    "Our recommendation system currently suggests movies without considering their ratings or popularity.\n",
    "\n",
    "To improve this, we’ll refine the system to filter out poorly rated movies. First, we’ll identify the top 25 movies based on similarity scores and determine the vote count at the 60th percentile. We’ll use this vote count as the threshold \n",
    "𝑚\n",
    "m and calculate each movie's weighted rating using IMDb's formula, as we did with the Simple Recommender."
   ]
  },
  {
   "cell_type": "code",
   "execution_count": 71,
   "id": "62df981c-def1-4eae-ae8a-ae6338c62c8e",
   "metadata": {},
   "outputs": [],
   "source": [
    "def improved_recommendations(title):\n",
    "    idx = indices[title]\n",
    "    sim_scores = list(enumerate(cosine_sim[idx]))\n",
    "    sim_scores = sorted(sim_scores, key=lambda x: x[1], reverse=True)\n",
    "    sim_scores = sim_scores[1:26]\n",
    "    movie_indices = [i[0] for i in sim_scores]\n",
    "    \n",
    "    movies = small_df.iloc[movie_indices][['title', 'vote_count', 'vote_average', 'year']]\n",
    "    vote_counts = movies[movies['vote_count'].notnull()]['vote_count'].astype('int')\n",
    "    vote_averages = movies[movies['vote_average'].notnull()]['vote_average'].astype('int')\n",
    "    C = vote_averages.mean()\n",
    "    m = vote_counts.quantile(0.60)\n",
    "    qualified = movies[(movies['vote_count'] >= m) & (movies['vote_count'].notnull()) & (movies['vote_average'].notnull())]\n",
    "    qualified['vote_count'] = qualified['vote_count'].astype('int')\n",
    "    qualified['vote_average'] = qualified['vote_average'].astype('int')\n",
    "    qualified['wr'] = qualified.apply(rating_weightage, axis=1)\n",
    "    qualified = qualified.sort_values('wr', ascending=False).head(10)\n",
    "    return qualified"
   ]
  },
  {
   "cell_type": "code",
   "execution_count": 72,
   "id": "8d78229c-5bd0-482f-8445-fe035adfdb13",
   "metadata": {},
   "outputs": [
    {
     "data": {
      "text/html": [
       "<div>\n",
       "<style scoped>\n",
       "    .dataframe tbody tr th:only-of-type {\n",
       "        vertical-align: middle;\n",
       "    }\n",
       "\n",
       "    .dataframe tbody tr th {\n",
       "        vertical-align: top;\n",
       "    }\n",
       "\n",
       "    .dataframe thead th {\n",
       "        text-align: right;\n",
       "    }\n",
       "</style>\n",
       "<table border=\"1\" class=\"dataframe\">\n",
       "  <thead>\n",
       "    <tr style=\"text-align: right;\">\n",
       "      <th></th>\n",
       "      <th>title</th>\n",
       "      <th>vote_count</th>\n",
       "      <th>vote_average</th>\n",
       "      <th>year</th>\n",
       "      <th>wr</th>\n",
       "    </tr>\n",
       "  </thead>\n",
       "  <tbody>\n",
       "    <tr>\n",
       "      <th>7608</th>\n",
       "      <td>Inception</td>\n",
       "      <td>14075</td>\n",
       "      <td>8</td>\n",
       "      <td>2010</td>\n",
       "      <td>7.917588</td>\n",
       "    </tr>\n",
       "    <tr>\n",
       "      <th>6587</th>\n",
       "      <td>The Prestige</td>\n",
       "      <td>4510</td>\n",
       "      <td>8</td>\n",
       "      <td>2006</td>\n",
       "      <td>7.758148</td>\n",
       "    </tr>\n",
       "    <tr>\n",
       "      <th>7991</th>\n",
       "      <td>The Dark Knight Rises</td>\n",
       "      <td>9263</td>\n",
       "      <td>7</td>\n",
       "      <td>2012</td>\n",
       "      <td>6.921448</td>\n",
       "    </tr>\n",
       "    <tr>\n",
       "      <th>6186</th>\n",
       "      <td>Batman Begins</td>\n",
       "      <td>7511</td>\n",
       "      <td>7</td>\n",
       "      <td>2005</td>\n",
       "      <td>6.904127</td>\n",
       "    </tr>\n",
       "    <tr>\n",
       "      <th>2077</th>\n",
       "      <td>Following</td>\n",
       "      <td>363</td>\n",
       "      <td>7</td>\n",
       "      <td>1998</td>\n",
       "      <td>6.044272</td>\n",
       "    </tr>\n",
       "    <tr>\n",
       "      <th>7223</th>\n",
       "      <td>The Baader Meinhof Complex</td>\n",
       "      <td>157</td>\n",
       "      <td>7</td>\n",
       "      <td>2008</td>\n",
       "      <td>5.711142</td>\n",
       "    </tr>\n",
       "    <tr>\n",
       "      <th>7872</th>\n",
       "      <td>Takers</td>\n",
       "      <td>399</td>\n",
       "      <td>6</td>\n",
       "      <td>2010</td>\n",
       "      <td>5.606585</td>\n",
       "    </tr>\n",
       "    <tr>\n",
       "      <th>6960</th>\n",
       "      <td>Street Kings</td>\n",
       "      <td>369</td>\n",
       "      <td>6</td>\n",
       "      <td>2008</td>\n",
       "      <td>5.591887</td>\n",
       "    </tr>\n",
       "    <tr>\n",
       "      <th>6609</th>\n",
       "      <td>Harsh Times</td>\n",
       "      <td>198</td>\n",
       "      <td>6</td>\n",
       "      <td>2005</td>\n",
       "      <td>5.481464</td>\n",
       "    </tr>\n",
       "    <tr>\n",
       "      <th>8899</th>\n",
       "      <td>Kidnapping Mr. Heineken</td>\n",
       "      <td>193</td>\n",
       "      <td>5</td>\n",
       "      <td>2015</td>\n",
       "      <td>5.169514</td>\n",
       "    </tr>\n",
       "  </tbody>\n",
       "</table>\n",
       "</div>"
      ],
      "text/plain": [
       "                           title  vote_count  vote_average  year        wr\n",
       "7608                   Inception       14075             8  2010  7.917588\n",
       "6587                The Prestige        4510             8  2006  7.758148\n",
       "7991       The Dark Knight Rises        9263             7  2012  6.921448\n",
       "6186               Batman Begins        7511             7  2005  6.904127\n",
       "2077                   Following         363             7  1998  6.044272\n",
       "7223  The Baader Meinhof Complex         157             7  2008  5.711142\n",
       "7872                      Takers         399             6  2010  5.606585\n",
       "6960                Street Kings         369             6  2008  5.591887\n",
       "6609                 Harsh Times         198             6  2005  5.481464\n",
       "8899     Kidnapping Mr. Heineken         193             5  2015  5.169514"
      ]
     },
     "execution_count": 72,
     "metadata": {},
     "output_type": "execute_result"
    }
   ],
   "source": [
    "improved_recommendations('The Dark Knight')"
   ]
  },
  {
   "cell_type": "code",
   "execution_count": 73,
   "id": "ccc75a4a-4edd-403f-b872-81acfe167094",
   "metadata": {},
   "outputs": [
    {
     "data": {
      "text/html": [
       "<div>\n",
       "<style scoped>\n",
       "    .dataframe tbody tr th:only-of-type {\n",
       "        vertical-align: middle;\n",
       "    }\n",
       "\n",
       "    .dataframe tbody tr th {\n",
       "        vertical-align: top;\n",
       "    }\n",
       "\n",
       "    .dataframe thead th {\n",
       "        text-align: right;\n",
       "    }\n",
       "</style>\n",
       "<table border=\"1\" class=\"dataframe\">\n",
       "  <thead>\n",
       "    <tr style=\"text-align: right;\">\n",
       "      <th></th>\n",
       "      <th>title</th>\n",
       "      <th>vote_count</th>\n",
       "      <th>vote_average</th>\n",
       "      <th>year</th>\n",
       "      <th>wr</th>\n",
       "    </tr>\n",
       "  </thead>\n",
       "  <tbody>\n",
       "    <tr>\n",
       "      <th>7444</th>\n",
       "      <td>Avatar</td>\n",
       "      <td>12114</td>\n",
       "      <td>7</td>\n",
       "      <td>2009</td>\n",
       "      <td>6.939296</td>\n",
       "    </tr>\n",
       "    <tr>\n",
       "      <th>522</th>\n",
       "      <td>Terminator 2: Judgment Day</td>\n",
       "      <td>4274</td>\n",
       "      <td>7</td>\n",
       "      <td>1991</td>\n",
       "      <td>6.838208</td>\n",
       "    </tr>\n",
       "    <tr>\n",
       "      <th>962</th>\n",
       "      <td>Aliens</td>\n",
       "      <td>3282</td>\n",
       "      <td>7</td>\n",
       "      <td>1986</td>\n",
       "      <td>6.795018</td>\n",
       "    </tr>\n",
       "    <tr>\n",
       "      <th>910</th>\n",
       "      <td>The Abyss</td>\n",
       "      <td>822</td>\n",
       "      <td>7</td>\n",
       "      <td>1989</td>\n",
       "      <td>6.393539</td>\n",
       "    </tr>\n",
       "    <tr>\n",
       "      <th>8385</th>\n",
       "      <td>Elysium</td>\n",
       "      <td>3510</td>\n",
       "      <td>6</td>\n",
       "      <td>2013</td>\n",
       "      <td>5.916908</td>\n",
       "    </tr>\n",
       "    <tr>\n",
       "      <th>344</th>\n",
       "      <td>True Lies</td>\n",
       "      <td>1138</td>\n",
       "      <td>6</td>\n",
       "      <td>1994</td>\n",
       "      <td>5.791530</td>\n",
       "    </tr>\n",
       "    <tr>\n",
       "      <th>7380</th>\n",
       "      <td>Surrogates</td>\n",
       "      <td>1219</td>\n",
       "      <td>5</td>\n",
       "      <td>2009</td>\n",
       "      <td>5.064298</td>\n",
       "    </tr>\n",
       "    <tr>\n",
       "      <th>4711</th>\n",
       "      <td>Terminator 3: Rise of the Machines</td>\n",
       "      <td>2177</td>\n",
       "      <td>5</td>\n",
       "      <td>2003</td>\n",
       "      <td>5.040707</td>\n",
       "    </tr>\n",
       "    <tr>\n",
       "      <th>7256</th>\n",
       "      <td>Terminator Salvation</td>\n",
       "      <td>2496</td>\n",
       "      <td>5</td>\n",
       "      <td>2009</td>\n",
       "      <td>5.036275</td>\n",
       "    </tr>\n",
       "    <tr>\n",
       "      <th>8822</th>\n",
       "      <td>Terminator Genisys</td>\n",
       "      <td>3677</td>\n",
       "      <td>5</td>\n",
       "      <td>2015</td>\n",
       "      <td>5.025854</td>\n",
       "    </tr>\n",
       "  </tbody>\n",
       "</table>\n",
       "</div>"
      ],
      "text/plain": [
       "                                   title  vote_count  vote_average  year  \\\n",
       "7444                              Avatar       12114             7  2009   \n",
       "522           Terminator 2: Judgment Day        4274             7  1991   \n",
       "962                               Aliens        3282             7  1986   \n",
       "910                            The Abyss         822             7  1989   \n",
       "8385                             Elysium        3510             6  2013   \n",
       "344                            True Lies        1138             6  1994   \n",
       "7380                          Surrogates        1219             5  2009   \n",
       "4711  Terminator 3: Rise of the Machines        2177             5  2003   \n",
       "7256                Terminator Salvation        2496             5  2009   \n",
       "8822                  Terminator Genisys        3677             5  2015   \n",
       "\n",
       "            wr  \n",
       "7444  6.939296  \n",
       "522   6.838208  \n",
       "962   6.795018  \n",
       "910   6.393539  \n",
       "8385  5.916908  \n",
       "344   5.791530  \n",
       "7380  5.064298  \n",
       "4711  5.040707  \n",
       "7256  5.036275  \n",
       "8822  5.025854  "
      ]
     },
     "execution_count": 73,
     "metadata": {},
     "output_type": "execute_result"
    }
   ],
   "source": [
    "improved_recommendations('The Terminator')"
   ]
  },
  {
   "cell_type": "markdown",
   "id": "fc7ce7fb-6353-43fb-a93e-02b5208967f4",
   "metadata": {},
   "source": [
    "## Collaborative Filtering"
   ]
  },
  {
   "cell_type": "markdown",
   "id": "61c117ad-7c21-4144-ba61-2c49f031fd08",
   "metadata": {},
   "source": [
    "Collaborative filtering is a method used to make recommendations by looking at what similar users liked or rated highly. It finds patterns in user behavior to suggest items you might enjoy, without needing detailed information about the items themselves.\n",
    "\n",
    "Here , we will create a recommendation system by comparing movies based on user ratings. We will be building a table of user ratings for movies, findind similarities between movies, and suggesting similar ones to users based on their past ratings. This approach helps recommend movies similar to those a user likes."
   ]
  },
  {
   "cell_type": "code",
   "execution_count": 74,
   "id": "e6b4b2ec-172c-4290-a9de-4d390c218a8b",
   "metadata": {},
   "outputs": [
    {
     "data": {
      "text/html": [
       "<div>\n",
       "<style scoped>\n",
       "    .dataframe tbody tr th:only-of-type {\n",
       "        vertical-align: middle;\n",
       "    }\n",
       "\n",
       "    .dataframe tbody tr th {\n",
       "        vertical-align: top;\n",
       "    }\n",
       "\n",
       "    .dataframe thead th {\n",
       "        text-align: right;\n",
       "    }\n",
       "</style>\n",
       "<table border=\"1\" class=\"dataframe\">\n",
       "  <thead>\n",
       "    <tr style=\"text-align: right;\">\n",
       "      <th></th>\n",
       "      <th>userId</th>\n",
       "      <th>movieId</th>\n",
       "      <th>rating</th>\n",
       "      <th>timestamp</th>\n",
       "    </tr>\n",
       "  </thead>\n",
       "  <tbody>\n",
       "    <tr>\n",
       "      <th>0</th>\n",
       "      <td>1</td>\n",
       "      <td>31</td>\n",
       "      <td>2.5</td>\n",
       "      <td>1260759144</td>\n",
       "    </tr>\n",
       "    <tr>\n",
       "      <th>1</th>\n",
       "      <td>1</td>\n",
       "      <td>1029</td>\n",
       "      <td>3.0</td>\n",
       "      <td>1260759179</td>\n",
       "    </tr>\n",
       "    <tr>\n",
       "      <th>2</th>\n",
       "      <td>1</td>\n",
       "      <td>1061</td>\n",
       "      <td>3.0</td>\n",
       "      <td>1260759182</td>\n",
       "    </tr>\n",
       "    <tr>\n",
       "      <th>3</th>\n",
       "      <td>1</td>\n",
       "      <td>1129</td>\n",
       "      <td>2.0</td>\n",
       "      <td>1260759185</td>\n",
       "    </tr>\n",
       "    <tr>\n",
       "      <th>4</th>\n",
       "      <td>1</td>\n",
       "      <td>1172</td>\n",
       "      <td>4.0</td>\n",
       "      <td>1260759205</td>\n",
       "    </tr>\n",
       "  </tbody>\n",
       "</table>\n",
       "</div>"
      ],
      "text/plain": [
       "   userId  movieId  rating   timestamp\n",
       "0       1       31     2.5  1260759144\n",
       "1       1     1029     3.0  1260759179\n",
       "2       1     1061     3.0  1260759182\n",
       "3       1     1129     2.0  1260759185\n",
       "4       1     1172     4.0  1260759205"
      ]
     },
     "execution_count": 74,
     "metadata": {},
     "output_type": "execute_result"
    }
   ],
   "source": [
    "ratings = pd.read_csv('ratings_small.csv')\n",
    "ratings.head()"
   ]
  },
  {
   "cell_type": "code",
   "execution_count": 75,
   "id": "c1b35d8a-d563-4112-baed-84f3a85a15ed",
   "metadata": {},
   "outputs": [
    {
     "name": "stdout",
     "output_type": "stream",
     "text": [
      "<class 'pandas.core.frame.DataFrame'>\n",
      "RangeIndex: 100004 entries, 0 to 100003\n",
      "Data columns (total 4 columns):\n",
      " #   Column     Non-Null Count   Dtype  \n",
      "---  ------     --------------   -----  \n",
      " 0   userId     100004 non-null  int64  \n",
      " 1   movieId    100004 non-null  int64  \n",
      " 2   rating     100004 non-null  float64\n",
      " 3   timestamp  100004 non-null  int64  \n",
      "dtypes: float64(1), int64(3)\n",
      "memory usage: 3.1 MB\n"
     ]
    }
   ],
   "source": [
    "ratings.info()"
   ]
  },
  {
   "cell_type": "code",
   "execution_count": 78,
   "id": "2c86e744-7543-476f-9454-84197366ff3f",
   "metadata": {},
   "outputs": [
    {
     "data": {
      "image/png": "[encoded data removed]",
      "text/plain": [
       "<Figure size 1000x600 with 1 Axes>"
      ]
     },
     "metadata": {},
     "output_type": "display_data"
    }
   ],
   "source": [
    "# Histogram of ratings\n",
    "plt.figure(figsize=(10, 6))\n",
    "ratings['rating'].hist(bins=30, edgecolor='black')\n",
    "plt.title('Distribution of Movie Ratings', fontsize=14)\n",
    "plt.xlabel('Rating', fontsize=12)\n",
    "plt.ylabel('Count', fontsize=12)\n",
    "plt.grid(axis='y', linestyle='--', alpha=0.7)\n",
    "plt.show()"
   ]
  },
  {
   "cell_type": "code",
   "execution_count": 80,
   "id": "1b821c21-78a1-46f7-bbb7-b7291f55e0bb",
   "metadata": {},
   "outputs": [
    {
     "name": "stdout",
     "output_type": "stream",
     "text": [
      "int64\n",
      "int32\n"
     ]
    }
   ],
   "source": [
    "print(ratings['movieId'].dtype)\n",
    "print(df['id'].dtype)"
   ]
  },
  {
   "cell_type": "code",
   "execution_count": 81,
   "id": "d8e26cef-54c9-43bf-a4fc-715f2d53d8f8",
   "metadata": {},
   "outputs": [],
   "source": [
    "df['id'] = pd.to_numeric(df['id'], errors='coerce')  \n",
    "df = df.dropna(subset=['id'])"
   ]
  },
  {
   "cell_type": "code",
   "execution_count": 82,
   "id": "c1782ed0-60cc-4189-91b3-b77c191b6bb3",
   "metadata": {},
   "outputs": [],
   "source": [
    "df['id'] = df['id'].astype('int64')"
   ]
  },
  {
   "cell_type": "code",
   "execution_count": 83,
   "id": "cae816ef-fe49-487c-a766-93be7e0b8d2a",
   "metadata": {},
   "outputs": [],
   "source": [
    "ratings['movieId'] = ratings['movieId'].astype(int)\n",
    "df['id'] = df['id'].astype(int)"
   ]
  },
  {
   "cell_type": "code",
   "execution_count": 84,
   "id": "ebc1572e-fdb7-452b-846b-67f177cba41d",
   "metadata": {},
   "outputs": [],
   "source": [
    "# Merge ratings with movies metadata to get movie titles\n",
    "ratings = ratings.merge(df[['id', 'title']], left_on='movieId', right_on='id', how='left')\n",
    "\n",
    "# Create a user-item matrix\n",
    "user_item_matrix = ratings.pivot_table(index='userId', columns='title', values='rating')\n",
    "user_item_matrix = user_item_matrix.fillna(0)\n"
   ]
  },
  {
   "cell_type": "code",
   "execution_count": 85,
   "id": "47d9638e-3b37-41c8-ac0f-7a975d8dae8a",
   "metadata": {},
   "outputs": [],
   "source": [
    "# Compute the cosine similarity between movies\n",
    "movie_similarity = cosine_similarity(user_item_matrix.T)\n",
    "\n",
    "# Create a DataFrame to hold movie similarity scores\n",
    "movie_similarity_df = pd.DataFrame(movie_similarity, index=user_item_matrix.columns, columns=user_item_matrix.columns)\n"
   ]
  },
  {
   "cell_type": "code",
   "execution_count": 86,
   "id": "84166141-0d3f-4ee3-98ad-3eb9f0207ead",
   "metadata": {},
   "outputs": [],
   "source": [
    "def get_recommendations(movie_title, top_n=10):\n",
    "    if movie_title not in movie_similarity_df.columns:\n",
    "        return f\"Movie '{movie_title}' not found.\"\n",
    "    \n",
    "    # Get the similar movies and their similarity scores\n",
    "    similar_scores = movie_similarity_df[movie_title]\n",
    "    \n",
    "    # Sort the movies by similarity scores and get the top_n + 1 (excluding the movie itself)\n",
    "    similar_movies = similar_scores.sort_values(ascending=False).head(top_n + 1)\n",
    "    \n",
    "    # Remove the movie itself from the list\n",
    "    similar_movies = similar_movies.index[1:]\n",
    "    \n",
    "    # Create a DataFrame with movie titles and similarity scores\n",
    "    recommendations_df = pd.DataFrame({\n",
    "        'Movie Title': similar_movies,\n",
    "        'Similarity Score': similar_scores[similar_movies].values\n",
    "    })\n",
    "    \n",
    "    return recommendations_df"
   ]
  },
  {
   "cell_type": "code",
   "execution_count": 87,
   "id": "3ee77917-5aa8-4d83-9908-c6e53f498673",
   "metadata": {},
   "outputs": [
    {
     "data": {
      "text/html": [
       "<div>\n",
       "<style scoped>\n",
       "    .dataframe tbody tr th:only-of-type {\n",
       "        vertical-align: middle;\n",
       "    }\n",
       "\n",
       "    .dataframe tbody tr th {\n",
       "        vertical-align: top;\n",
       "    }\n",
       "\n",
       "    .dataframe thead th {\n",
       "        text-align: right;\n",
       "    }\n",
       "</style>\n",
       "<table border=\"1\" class=\"dataframe\">\n",
       "  <thead>\n",
       "    <tr style=\"text-align: right;\">\n",
       "      <th></th>\n",
       "      <th>Movie Title</th>\n",
       "      <th>Similarity Score</th>\n",
       "    </tr>\n",
       "  </thead>\n",
       "  <tbody>\n",
       "    <tr>\n",
       "      <th>0</th>\n",
       "      <td>Wild Wild West</td>\n",
       "      <td>0.501456</td>\n",
       "    </tr>\n",
       "    <tr>\n",
       "      <th>1</th>\n",
       "      <td>Prom Night</td>\n",
       "      <td>0.499431</td>\n",
       "    </tr>\n",
       "    <tr>\n",
       "      <th>2</th>\n",
       "      <td>The Contender</td>\n",
       "      <td>0.476331</td>\n",
       "    </tr>\n",
       "    <tr>\n",
       "      <th>3</th>\n",
       "      <td>It Happened at the World's Fair</td>\n",
       "      <td>0.476331</td>\n",
       "    </tr>\n",
       "    <tr>\n",
       "      <th>4</th>\n",
       "      <td>My Best Fiend</td>\n",
       "      <td>0.476331</td>\n",
       "    </tr>\n",
       "    <tr>\n",
       "      <th>5</th>\n",
       "      <td>The Shadow</td>\n",
       "      <td>0.476331</td>\n",
       "    </tr>\n",
       "    <tr>\n",
       "      <th>6</th>\n",
       "      <td>Shock Treatment</td>\n",
       "      <td>0.476331</td>\n",
       "    </tr>\n",
       "    <tr>\n",
       "      <th>7</th>\n",
       "      <td>Diplomatic Courier</td>\n",
       "      <td>0.476331</td>\n",
       "    </tr>\n",
       "    <tr>\n",
       "      <th>8</th>\n",
       "      <td>The Ice Harvest</td>\n",
       "      <td>0.476331</td>\n",
       "    </tr>\n",
       "    <tr>\n",
       "      <th>9</th>\n",
       "      <td>Pan's Labyrinth</td>\n",
       "      <td>0.476331</td>\n",
       "    </tr>\n",
       "  </tbody>\n",
       "</table>\n",
       "</div>"
      ],
      "text/plain": [
       "                       Movie Title  Similarity Score\n",
       "0                   Wild Wild West          0.501456\n",
       "1                       Prom Night          0.499431\n",
       "2                    The Contender          0.476331\n",
       "3  It Happened at the World's Fair          0.476331\n",
       "4                    My Best Fiend          0.476331\n",
       "5                       The Shadow          0.476331\n",
       "6                  Shock Treatment          0.476331\n",
       "7               Diplomatic Courier          0.476331\n",
       "8                  The Ice Harvest          0.476331\n",
       "9                  Pan's Labyrinth          0.476331"
      ]
     },
     "execution_count": 87,
     "metadata": {},
     "output_type": "execute_result"
    }
   ],
   "source": [
    "get_recommendations('The Dark Knight', top_n=10)"
   ]
  },
  {
   "cell_type": "markdown",
   "id": "2b743ce8-f1c1-4038-af0c-f09d97853b91",
   "metadata": {},
   "source": [
    "### **Conclusion**\n",
    "Here , three distinct recommendation engines using various approaches and algorithms were developed. These engines are:\n",
    "\n",
    "**Simple Recommender**: This system leveraged the overall TMDB vote count and vote averages to create top movie charts, both in general and for specific genres. The IMDB Weighted Rating System was employed to compute the ratings, which were then used for sorting the movies.\n",
    "\n",
    "**Content-Based Recommender**: Two content-based models were implemented. The first model used movie overviews and taglines to generate recommendations, while the second utilized metadata such as cast, crew, genres, and keywords to predict preferences. Additionally, a filtering mechanism was introduced to prioritize movies with higher vote counts and ratings, enhancing the recommendation quality.\n",
    "\n",
    "**Collaborative Filtering**: This model was developed using cosine similarity on a user-item matrix created from the rating data. By calculating the similarity between movies based on user ratings, the system could recommend similar movies to users based on their past preferences. This approach provides personalized recommendations and leverages the relationship between user behaviors and movie ratings.\n",
    "\n",
    "Overall, these diverse approaches offer a comprehensive framework for movie recommendation, addressing various aspects of user preferences and available data."
   ]
  },
  {
   "cell_type": "code",
   "execution_count": null,
   "id": "51834f7b-e516-4c69-a4ef-a9755b8de136",
   "metadata": {},
   "outputs": [],
   "source": []
  }
 ],
 "metadata": {
  "kernelspec": {
   "display_name": "Python 3 (ipykernel)",
   "language": "python",
   "name": "python3"
  },
  "language_info": {
   "codemirror_mode": {
    "name": "ipython",
    "version": 3
   },
   "file_extension": ".py",
   "mimetype": "text/x-python",
   "name": "python",
   "nbconvert_exporter": "python",
   "pygments_lexer": "ipython3",
   "version": "3.11.7"
  }
 },
 "nbformat": 4,
 "nbformat_minor": 5
}
